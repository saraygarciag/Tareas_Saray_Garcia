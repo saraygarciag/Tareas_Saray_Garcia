{
  "nbformat": 4,
  "nbformat_minor": 0,
  "metadata": {
    "colab": {
      "name": "Participación - Calidad y preprocesamiento de datos - SarayGarcía.ipynb",
      "provenance": [],
      "collapsed_sections": [],
      "authorship_tag": "ABX9TyPZawQbXizu1CasdRZMbB6h",
      "include_colab_link": true
    },
    "kernelspec": {
      "name": "python3",
      "display_name": "Python 3"
    },
    "language_info": {
      "name": "python"
    }
  },
  "cells": [
    {
      "cell_type": "markdown",
      "metadata": {
        "id": "view-in-github",
        "colab_type": "text"
      },
      "source": [
        "<a href=\"https://colab.research.google.com/github/saraygarciag/Tareas_Saray_Garcia/blob/main/Participaci%C3%B3n_Calidad_y_preprocesamiento_de_datos_SarayGarc%C3%ADa.ipynb\" target=\"_parent\"><img src=\"https://colab.research.google.com/assets/colab-badge.svg\" alt=\"Open In Colab\"/></a>"
      ]
    },
    {
      "cell_type": "markdown",
      "metadata": {
        "id": "RqG4PZ6pZp6g"
      },
      "source": [
        "### PARTICIPACIÓN\n",
        "Saray Daniella García Gelves"
      ]
    },
    {
      "cell_type": "code",
      "metadata": {
        "id": "GfgAqFEVNdGf"
      },
      "source": [
        "import pandas as pd\n",
        "import numpy as np\n",
        "pd.set_option('display.max_columns', None) #Mostrar todas las columnas"
      ],
      "execution_count": 2,
      "outputs": []
    },
    {
      "cell_type": "code",
      "metadata": {
        "colab": {
          "base_uri": "https://localhost:8080/",
          "height": 422
        },
        "id": "wsN5tLL-HPtU",
        "outputId": "e895a577-9914-494a-bccd-07839c308e79"
      },
      "source": [
        "df_procesos = pd.read_csv('PROCESOS_SSPD_DESDE_2018.csv', \n",
        "                 sep = ',',\n",
        "                 thousands=',', decimal='.',\n",
        "                 skip_blank_lines=True,\n",
        "                 low_memory = False)\n",
        "df_procesos.head()"
      ],
      "execution_count": 3,
      "outputs": [
        {
          "output_type": "execute_result",
          "data": {
            "text/html": [
              "<div>\n",
              "<style scoped>\n",
              "    .dataframe tbody tr th:only-of-type {\n",
              "        vertical-align: middle;\n",
              "    }\n",
              "\n",
              "    .dataframe tbody tr th {\n",
              "        vertical-align: top;\n",
              "    }\n",
              "\n",
              "    .dataframe thead th {\n",
              "        text-align: right;\n",
              "    }\n",
              "</style>\n",
              "<table border=\"1\" class=\"dataframe\">\n",
              "  <thead>\n",
              "    <tr style=\"text-align: right;\">\n",
              "      <th></th>\n",
              "      <th>Modalidad de Contratacion</th>\n",
              "      <th>Fecha de Publicacion del Proceso</th>\n",
              "      <th>Referencia del Proceso</th>\n",
              "      <th>Nombre del Procedimiento</th>\n",
              "      <th>Descripción del Procedimiento</th>\n",
              "      <th>Precio Base</th>\n",
              "      <th>Nombre de la Unidad de Contratación</th>\n",
              "      <th>URLProceso</th>\n",
              "    </tr>\n",
              "  </thead>\n",
              "  <tbody>\n",
              "    <tr>\n",
              "      <th>0</th>\n",
              "      <td>Contratación directa</td>\n",
              "      <td>08/01/2021</td>\n",
              "      <td>05202521</td>\n",
              "      <td>Prestar servicios profesionales en la generaci...</td>\n",
              "      <td>Prestar servicios profesionales en la generaci...</td>\n",
              "      <td>70493192</td>\n",
              "      <td>DIRECCION ADMINISTRATIVA</td>\n",
              "      <td>https://community.secop.gov.co/Public/Tenderin...</td>\n",
              "    </tr>\n",
              "    <tr>\n",
              "      <th>1</th>\n",
              "      <td>Contratación directa</td>\n",
              "      <td>20/01/2020</td>\n",
              "      <td>40000520</td>\n",
              "      <td>Prestar sus servicios profesionales a la Super...</td>\n",
              "      <td>Prestar sus servicios profesionales a la Super...</td>\n",
              "      <td>171000000</td>\n",
              "      <td>DIRECCION ADMINISTRATIVA</td>\n",
              "      <td>https://community.secop.gov.co/Public/Tenderin...</td>\n",
              "    </tr>\n",
              "    <tr>\n",
              "      <th>2</th>\n",
              "      <td>Contratación directa</td>\n",
              "      <td>16/01/2020</td>\n",
              "      <td>81003020</td>\n",
              "      <td>Prestar los servicios profesionales juridicos ...</td>\n",
              "      <td>Prestar los servicios profesionales jurídicos ...</td>\n",
              "      <td>39562300</td>\n",
              "      <td>DIRECCCION TERRITORIAL CENTRO</td>\n",
              "      <td>https://community.secop.gov.co/Public/Tenderin...</td>\n",
              "    </tr>\n",
              "    <tr>\n",
              "      <th>3</th>\n",
              "      <td>Contratación directa</td>\n",
              "      <td>18/01/2019</td>\n",
              "      <td>80000519</td>\n",
              "      <td>Prestar los servicios profesionales en la orga...</td>\n",
              "      <td>Prestar los servicios profesionales en la orga...</td>\n",
              "      <td>91738644</td>\n",
              "      <td>DIRECCION ADMINISTRATIVA</td>\n",
              "      <td>https://community.secop.gov.co/Public/Tenderin...</td>\n",
              "    </tr>\n",
              "    <tr>\n",
              "      <th>4</th>\n",
              "      <td>Contratación directa</td>\n",
              "      <td>17/01/2020</td>\n",
              "      <td>82004920</td>\n",
              "      <td>DTN 016 DE 2020</td>\n",
              "      <td>Prestar servicios profesionales jurídicos para...</td>\n",
              "      <td>45999995</td>\n",
              "      <td>DIRECCION TERRITORIAL NORTE</td>\n",
              "      <td>https://community.secop.gov.co/Public/Tenderin...</td>\n",
              "    </tr>\n",
              "  </tbody>\n",
              "</table>\n",
              "</div>"
            ],
            "text/plain": [
              "  Modalidad de Contratacion Fecha de Publicacion del Proceso  \\\n",
              "0      Contratación directa                       08/01/2021   \n",
              "1      Contratación directa                       20/01/2020   \n",
              "2      Contratación directa                       16/01/2020   \n",
              "3      Contratación directa                       18/01/2019   \n",
              "4      Contratación directa                       17/01/2020   \n",
              "\n",
              "  Referencia del Proceso                           Nombre del Procedimiento  \\\n",
              "0               05202521  Prestar servicios profesionales en la generaci...   \n",
              "1               40000520  Prestar sus servicios profesionales a la Super...   \n",
              "2               81003020  Prestar los servicios profesionales juridicos ...   \n",
              "3               80000519  Prestar los servicios profesionales en la orga...   \n",
              "4               82004920                                    DTN 016 DE 2020   \n",
              "\n",
              "                       Descripción del Procedimiento  Precio Base  \\\n",
              "0  Prestar servicios profesionales en la generaci...     70493192   \n",
              "1  Prestar sus servicios profesionales a la Super...    171000000   \n",
              "2  Prestar los servicios profesionales jurídicos ...     39562300   \n",
              "3  Prestar los servicios profesionales en la orga...     91738644   \n",
              "4  Prestar servicios profesionales jurídicos para...     45999995   \n",
              "\n",
              "  Nombre de la Unidad de Contratación  \\\n",
              "0            DIRECCION ADMINISTRATIVA   \n",
              "1            DIRECCION ADMINISTRATIVA   \n",
              "2       DIRECCCION TERRITORIAL CENTRO   \n",
              "3            DIRECCION ADMINISTRATIVA   \n",
              "4         DIRECCION TERRITORIAL NORTE   \n",
              "\n",
              "                                          URLProceso  \n",
              "0  https://community.secop.gov.co/Public/Tenderin...  \n",
              "1  https://community.secop.gov.co/Public/Tenderin...  \n",
              "2  https://community.secop.gov.co/Public/Tenderin...  \n",
              "3  https://community.secop.gov.co/Public/Tenderin...  \n",
              "4  https://community.secop.gov.co/Public/Tenderin...  "
            ]
          },
          "metadata": {},
          "execution_count": 3
        }
      ]
    },
    {
      "cell_type": "markdown",
      "metadata": {
        "id": "rH8ynzHCLmCh"
      },
      "source": [
        "## 1. Ejercicio: Realizar análisis de completitud para el dataset de procesos."
      ]
    },
    {
      "cell_type": "code",
      "metadata": {
        "colab": {
          "base_uri": "https://localhost:8080/"
        },
        "id": "EtEME89vShAw",
        "outputId": "84108efa-42da-48df-c39c-90f09d825ea9"
      },
      "source": [
        "print('Procesos')\n",
        "print('Filas: ', df_procesos.shape[0])\n",
        "print('Columnas: ', df_procesos.shape[1])"
      ],
      "execution_count": 4,
      "outputs": [
        {
          "output_type": "stream",
          "name": "stdout",
          "text": [
            "Procesos\n",
            "Filas:  2819\n",
            "Columnas:  8\n"
          ]
        }
      ]
    },
    {
      "cell_type": "code",
      "metadata": {
        "colab": {
          "base_uri": "https://localhost:8080/"
        },
        "id": "LFojAupbSmch",
        "outputId": "82597bed-bcbf-41b6-c5cd-377471bf923a"
      },
      "source": [
        "df_procesos.dtypes"
      ],
      "execution_count": 5,
      "outputs": [
        {
          "output_type": "execute_result",
          "data": {
            "text/plain": [
              "Modalidad de Contratacion              object\n",
              "Fecha de Publicacion del Proceso       object\n",
              "Referencia del Proceso                 object\n",
              "Nombre del Procedimiento               object\n",
              "Descripción del Procedimiento          object\n",
              "Precio Base                             int64\n",
              "Nombre de la Unidad de Contratación    object\n",
              "URLProceso                             object\n",
              "dtype: object"
            ]
          },
          "metadata": {},
          "execution_count": 5
        }
      ]
    },
    {
      "cell_type": "markdown",
      "metadata": {
        "id": "9nHDKG5HS2-5"
      },
      "source": [
        "# Análisis de datos faltantes"
      ]
    },
    {
      "cell_type": "code",
      "metadata": {
        "colab": {
          "base_uri": "https://localhost:8080/"
        },
        "id": "kuLP8dv7TNbM",
        "outputId": "38e22e1e-7d66-4559-82c0-a986bc2c1454"
      },
      "source": [
        "for col in df_procesos.columns:\n",
        "    num_missing = df_procesos[col].isnull().sum()\n",
        "    pct_missing = np.mean(df_procesos[col].isnull())\n",
        "    #print(col,\" - \",round(pct_missing*100, 2),\"% - \",num_missing)\n",
        "    print('{} - {}% - {}'.format(col,round(pct_missing*100, 2),num_missing))"
      ],
      "execution_count": 6,
      "outputs": [
        {
          "output_type": "stream",
          "name": "stdout",
          "text": [
            "Modalidad de Contratacion - 0.0% - 0\n",
            "Fecha de Publicacion del Proceso - 0.0% - 0\n",
            "Referencia del Proceso - 0.0% - 0\n",
            "Nombre del Procedimiento - 0.0% - 0\n",
            "Descripción del Procedimiento - 0.43% - 12\n",
            "Precio Base - 0.0% - 0\n",
            "Nombre de la Unidad de Contratación - 0.0% - 0\n",
            "URLProceso - 0.0% - 0\n"
          ]
        }
      ]
    },
    {
      "cell_type": "code",
      "metadata": {
        "colab": {
          "base_uri": "https://localhost:8080/"
        },
        "id": "UrsqW0A9UsKB",
        "outputId": "1e13202e-df1a-4b31-a8b1-9409d5f07e0c"
      },
      "source": [
        "df_procesos[\"Descripción del Procedimiento\"].isnull().sum()"
      ],
      "execution_count": 11,
      "outputs": [
        {
          "output_type": "execute_result",
          "data": {
            "text/plain": [
              "12"
            ]
          },
          "metadata": {},
          "execution_count": 11
        }
      ]
    },
    {
      "cell_type": "markdown",
      "metadata": {
        "id": "qj1JITsWTtxz"
      },
      "source": [
        "La base de datos de Procesos tiene 12 datos faltantes, que corresponden al 0.43% del total de la columna \"Descripción del Procedimiento\", las 12 filas que tienen datos faltantes son las siguientes:"
      ]
    },
    {
      "cell_type": "code",
      "metadata": {
        "colab": {
          "base_uri": "https://localhost:8080/",
          "height": 1000
        },
        "id": "WNFlaa1LS8dD",
        "outputId": "cf2a7bbb-653c-424b-f934-b424ca6c84c2"
      },
      "source": [
        "df_procesos[df_procesos[\"Descripción del Procedimiento\"].isnull() == True]"
      ],
      "execution_count": 9,
      "outputs": [
        {
          "output_type": "execute_result",
          "data": {
            "text/html": [
              "<div>\n",
              "<style scoped>\n",
              "    .dataframe tbody tr th:only-of-type {\n",
              "        vertical-align: middle;\n",
              "    }\n",
              "\n",
              "    .dataframe tbody tr th {\n",
              "        vertical-align: top;\n",
              "    }\n",
              "\n",
              "    .dataframe thead th {\n",
              "        text-align: right;\n",
              "    }\n",
              "</style>\n",
              "<table border=\"1\" class=\"dataframe\">\n",
              "  <thead>\n",
              "    <tr style=\"text-align: right;\">\n",
              "      <th></th>\n",
              "      <th>Modalidad de Contratacion</th>\n",
              "      <th>Fecha de Publicacion del Proceso</th>\n",
              "      <th>Referencia del Proceso</th>\n",
              "      <th>Nombre del Procedimiento</th>\n",
              "      <th>Descripción del Procedimiento</th>\n",
              "      <th>Precio Base</th>\n",
              "      <th>Nombre de la Unidad de Contratación</th>\n",
              "      <th>URLProceso</th>\n",
              "    </tr>\n",
              "  </thead>\n",
              "  <tbody>\n",
              "    <tr>\n",
              "      <th>721</th>\n",
              "      <td>Mínima cuantía</td>\n",
              "      <td>05/06/2019</td>\n",
              "      <td>84004819</td>\n",
              "      <td>PRESTAR EL SERVICIO DEL MANTENIMIENTO PREVENTI...</td>\n",
              "      <td>NaN</td>\n",
              "      <td>6500000</td>\n",
              "      <td>DIRECCION TERRITORIAL ORIENTE</td>\n",
              "      <td>https://community.secop.gov.co/Public/Tenderin...</td>\n",
              "    </tr>\n",
              "    <tr>\n",
              "      <th>785</th>\n",
              "      <td>Mínima cuantía</td>\n",
              "      <td>10/12/2018</td>\n",
              "      <td>SSPD-MC-820-06-2018</td>\n",
              "      <td>DESMONTE, TRANSPORTE Y MONTAJE DE LAS ESTANTER...</td>\n",
              "      <td>NaN</td>\n",
              "      <td>16796000</td>\n",
              "      <td>DIRECCION TERRITORIAL NORTE</td>\n",
              "      <td>https://community.secop.gov.co/Public/Tenderin...</td>\n",
              "    </tr>\n",
              "    <tr>\n",
              "      <th>864</th>\n",
              "      <td>Contratación directa</td>\n",
              "      <td>28/12/2018</td>\n",
              "      <td>085004018</td>\n",
              "      <td>Prestar sus servicios profesionales en la aten...</td>\n",
              "      <td>NaN</td>\n",
              "      <td>19710080</td>\n",
              "      <td>DIRECCION TERRITORIAL SUROCCIDENTE</td>\n",
              "      <td>https://community.secop.gov.co/Public/Tenderin...</td>\n",
              "    </tr>\n",
              "    <tr>\n",
              "      <th>1395</th>\n",
              "      <td>Contratación directa</td>\n",
              "      <td>17/01/2019</td>\n",
              "      <td>85000519</td>\n",
              "      <td>Prestar los servicios profesionales como gesto...</td>\n",
              "      <td>NaN</td>\n",
              "      <td>39655000</td>\n",
              "      <td>DIRECCION TERRITORIAL SUROCCIDENTE</td>\n",
              "      <td>https://community.secop.gov.co/Public/Tenderin...</td>\n",
              "    </tr>\n",
              "    <tr>\n",
              "      <th>1551</th>\n",
              "      <td>Contratación directa</td>\n",
              "      <td>15/02/2021</td>\n",
              "      <td>81000621</td>\n",
              "      <td>prestar los servicios de apoyo a la gestión  e...</td>\n",
              "      <td>NaN</td>\n",
              "      <td>15860000</td>\n",
              "      <td>DIRECCCION TERRITORIAL CENTRO</td>\n",
              "      <td>https://community.secop.gov.co/Public/Tenderin...</td>\n",
              "    </tr>\n",
              "    <tr>\n",
              "      <th>1642</th>\n",
              "      <td>Contratación directa</td>\n",
              "      <td>22/02/2021</td>\n",
              "      <td>85001821</td>\n",
              "      <td>Prestar los servicios profesionales para la or...</td>\n",
              "      <td>NaN</td>\n",
              "      <td>34883314</td>\n",
              "      <td>DIRECCION TERRITORIAL SUROCCIDENTE</td>\n",
              "      <td>https://community.secop.gov.co/Public/Tenderin...</td>\n",
              "    </tr>\n",
              "    <tr>\n",
              "      <th>1691</th>\n",
              "      <td>Mínima cuantía</td>\n",
              "      <td>11/06/2019</td>\n",
              "      <td>SSPD-MC-840-03-2019</td>\n",
              "      <td>de  PRESTAR EL  SERVICIO DE MANTENIMIENTO GENE...</td>\n",
              "      <td>NaN</td>\n",
              "      <td>9000000</td>\n",
              "      <td>DIRECCION TERRITORIAL ORIENTE</td>\n",
              "      <td>https://community.secop.gov.co/Public/Tenderin...</td>\n",
              "    </tr>\n",
              "    <tr>\n",
              "      <th>1977</th>\n",
              "      <td>Contratación directa</td>\n",
              "      <td>20/01/2021</td>\n",
              "      <td>81001821</td>\n",
              "      <td>Prestar los servicios profesionales en la aten...</td>\n",
              "      <td>NaN</td>\n",
              "      <td>31744600</td>\n",
              "      <td>DIRECCCION TERRITORIAL CENTRO</td>\n",
              "      <td>https://community.secop.gov.co/Public/Tenderin...</td>\n",
              "    </tr>\n",
              "    <tr>\n",
              "      <th>2015</th>\n",
              "      <td>Contratación directa</td>\n",
              "      <td>02/06/2021</td>\n",
              "      <td>054005021</td>\n",
              "      <td>Prestar los servicios profesionales para la ge...</td>\n",
              "      <td>NaN</td>\n",
              "      <td>31350000</td>\n",
              "      <td>DIRECCION ADMINISTRATIVA</td>\n",
              "      <td>https://community.secop.gov.co/Public/Tenderin...</td>\n",
              "    </tr>\n",
              "    <tr>\n",
              "      <th>2194</th>\n",
              "      <td>Contratación directa</td>\n",
              "      <td>29/12/2018</td>\n",
              "      <td>82016418</td>\n",
              "      <td>Prestar servicios profesionales jurídicos para...</td>\n",
              "      <td>NaN</td>\n",
              "      <td>19136000</td>\n",
              "      <td>DIRECCION TERRITORIAL NORTE</td>\n",
              "      <td>https://community.secop.gov.co/Public/Tenderin...</td>\n",
              "    </tr>\n",
              "    <tr>\n",
              "      <th>2316</th>\n",
              "      <td>Contratación directa</td>\n",
              "      <td>23/08/2018</td>\n",
              "      <td>82010118</td>\n",
              "      <td>Prestar servicios profesionales que brinden so...</td>\n",
              "      <td>NaN</td>\n",
              "      <td>12480000</td>\n",
              "      <td>DIRECCION TERRITORIAL NORTE</td>\n",
              "      <td>https://community.secop.gov.co/Public/Tenderin...</td>\n",
              "    </tr>\n",
              "    <tr>\n",
              "      <th>2797</th>\n",
              "      <td>Contratación directa</td>\n",
              "      <td>14/01/2019</td>\n",
              "      <td>81000319</td>\n",
              "      <td>servicios de apoyo a la gestión de la Direcció...</td>\n",
              "      <td>NaN</td>\n",
              "      <td>18720000</td>\n",
              "      <td>DIRECCCION TERRITORIAL CENTRO</td>\n",
              "      <td>https://community.secop.gov.co/Public/Tenderin...</td>\n",
              "    </tr>\n",
              "  </tbody>\n",
              "</table>\n",
              "</div>"
            ],
            "text/plain": [
              "     Modalidad de Contratacion Fecha de Publicacion del Proceso  \\\n",
              "721             Mínima cuantía                       05/06/2019   \n",
              "785             Mínima cuantía                       10/12/2018   \n",
              "864       Contratación directa                       28/12/2018   \n",
              "1395      Contratación directa                       17/01/2019   \n",
              "1551      Contratación directa                       15/02/2021   \n",
              "1642      Contratación directa                       22/02/2021   \n",
              "1691            Mínima cuantía                       11/06/2019   \n",
              "1977      Contratación directa                       20/01/2021   \n",
              "2015      Contratación directa                       02/06/2021   \n",
              "2194      Contratación directa                       29/12/2018   \n",
              "2316      Contratación directa                       23/08/2018   \n",
              "2797      Contratación directa                       14/01/2019   \n",
              "\n",
              "     Referencia del Proceso  \\\n",
              "721                84004819   \n",
              "785     SSPD-MC-820-06-2018   \n",
              "864               085004018   \n",
              "1395               85000519   \n",
              "1551               81000621   \n",
              "1642               85001821   \n",
              "1691    SSPD-MC-840-03-2019   \n",
              "1977               81001821   \n",
              "2015              054005021   \n",
              "2194               82016418   \n",
              "2316               82010118   \n",
              "2797               81000319   \n",
              "\n",
              "                               Nombre del Procedimiento  \\\n",
              "721   PRESTAR EL SERVICIO DEL MANTENIMIENTO PREVENTI...   \n",
              "785   DESMONTE, TRANSPORTE Y MONTAJE DE LAS ESTANTER...   \n",
              "864   Prestar sus servicios profesionales en la aten...   \n",
              "1395  Prestar los servicios profesionales como gesto...   \n",
              "1551  prestar los servicios de apoyo a la gestión  e...   \n",
              "1642  Prestar los servicios profesionales para la or...   \n",
              "1691  de  PRESTAR EL  SERVICIO DE MANTENIMIENTO GENE...   \n",
              "1977  Prestar los servicios profesionales en la aten...   \n",
              "2015  Prestar los servicios profesionales para la ge...   \n",
              "2194  Prestar servicios profesionales jurídicos para...   \n",
              "2316  Prestar servicios profesionales que brinden so...   \n",
              "2797  servicios de apoyo a la gestión de la Direcció...   \n",
              "\n",
              "     Descripción del Procedimiento  Precio Base  \\\n",
              "721                            NaN      6500000   \n",
              "785                            NaN     16796000   \n",
              "864                            NaN     19710080   \n",
              "1395                           NaN     39655000   \n",
              "1551                           NaN     15860000   \n",
              "1642                           NaN     34883314   \n",
              "1691                           NaN      9000000   \n",
              "1977                           NaN     31744600   \n",
              "2015                           NaN     31350000   \n",
              "2194                           NaN     19136000   \n",
              "2316                           NaN     12480000   \n",
              "2797                           NaN     18720000   \n",
              "\n",
              "     Nombre de la Unidad de Contratación  \\\n",
              "721        DIRECCION TERRITORIAL ORIENTE   \n",
              "785          DIRECCION TERRITORIAL NORTE   \n",
              "864   DIRECCION TERRITORIAL SUROCCIDENTE   \n",
              "1395  DIRECCION TERRITORIAL SUROCCIDENTE   \n",
              "1551       DIRECCCION TERRITORIAL CENTRO   \n",
              "1642  DIRECCION TERRITORIAL SUROCCIDENTE   \n",
              "1691       DIRECCION TERRITORIAL ORIENTE   \n",
              "1977       DIRECCCION TERRITORIAL CENTRO   \n",
              "2015            DIRECCION ADMINISTRATIVA   \n",
              "2194         DIRECCION TERRITORIAL NORTE   \n",
              "2316         DIRECCION TERRITORIAL NORTE   \n",
              "2797       DIRECCCION TERRITORIAL CENTRO   \n",
              "\n",
              "                                             URLProceso  \n",
              "721   https://community.secop.gov.co/Public/Tenderin...  \n",
              "785   https://community.secop.gov.co/Public/Tenderin...  \n",
              "864   https://community.secop.gov.co/Public/Tenderin...  \n",
              "1395  https://community.secop.gov.co/Public/Tenderin...  \n",
              "1551  https://community.secop.gov.co/Public/Tenderin...  \n",
              "1642  https://community.secop.gov.co/Public/Tenderin...  \n",
              "1691  https://community.secop.gov.co/Public/Tenderin...  \n",
              "1977  https://community.secop.gov.co/Public/Tenderin...  \n",
              "2015  https://community.secop.gov.co/Public/Tenderin...  \n",
              "2194  https://community.secop.gov.co/Public/Tenderin...  \n",
              "2316  https://community.secop.gov.co/Public/Tenderin...  \n",
              "2797  https://community.secop.gov.co/Public/Tenderin...  "
            ]
          },
          "metadata": {},
          "execution_count": 9
        }
      ]
    },
    {
      "cell_type": "markdown",
      "metadata": {
        "id": "DtWbhHA8Lohs"
      },
      "source": [
        "### ¿Cuál es el porcentaje de datos perdidos?"
      ]
    },
    {
      "cell_type": "markdown",
      "metadata": {
        "id": "lP9lnbe2UB6Z"
      },
      "source": [
        "El porcentaje de datos perdidos es del 0.43% respecto al total de la categoría \"Descripción del Procedimiento\"."
      ]
    },
    {
      "cell_type": "markdown",
      "metadata": {
        "id": "8yrZCy5SLt_w"
      },
      "source": [
        "### ¿Qué hacer con los datos perdidos: Borrar, imputar, asumir categoría de perdido o simplemente dejarlo así?¿Por qué?"
      ]
    },
    {
      "cell_type": "markdown",
      "metadata": {
        "id": "DQCqEXVBVGYB"
      },
      "source": [
        "Los datos perdidos son un porcentaje muy pequeño respecto a el total de la variable y del dataset en total, por lo tanto eliminarlos no es una opción adecuada para el manejo de los mismos, además la \"Descripción del procedimiento\" en la base de datos está describiendo los procesos y es fundamental. Lo ideal sería imputar."
      ]
    },
    {
      "cell_type": "code",
      "metadata": {
        "colab": {
          "base_uri": "https://localhost:8080/",
          "height": 82
        },
        "id": "HULsRNMHWrzw",
        "outputId": "43f28e32-944f-4871-f1c0-0eec4504bd83"
      },
      "source": [
        "df_procesos[\"Descripción del Procedimiento\"] = df_procesos[\"Descripción del Procedimiento\"].fillna('Sin nombre')\n",
        "df_procesos[df_procesos[\"Descripción del Procedimiento\"].isnull() == True]"
      ],
      "execution_count": 14,
      "outputs": [
        {
          "output_type": "execute_result",
          "data": {
            "text/html": [
              "<div>\n",
              "<style scoped>\n",
              "    .dataframe tbody tr th:only-of-type {\n",
              "        vertical-align: middle;\n",
              "    }\n",
              "\n",
              "    .dataframe tbody tr th {\n",
              "        vertical-align: top;\n",
              "    }\n",
              "\n",
              "    .dataframe thead th {\n",
              "        text-align: right;\n",
              "    }\n",
              "</style>\n",
              "<table border=\"1\" class=\"dataframe\">\n",
              "  <thead>\n",
              "    <tr style=\"text-align: right;\">\n",
              "      <th></th>\n",
              "      <th>Modalidad de Contratacion</th>\n",
              "      <th>Fecha de Publicacion del Proceso</th>\n",
              "      <th>Referencia del Proceso</th>\n",
              "      <th>Nombre del Procedimiento</th>\n",
              "      <th>Descripción del Procedimiento</th>\n",
              "      <th>Precio Base</th>\n",
              "      <th>Nombre de la Unidad de Contratación</th>\n",
              "      <th>URLProceso</th>\n",
              "    </tr>\n",
              "  </thead>\n",
              "  <tbody>\n",
              "  </tbody>\n",
              "</table>\n",
              "</div>"
            ],
            "text/plain": [
              "Empty DataFrame\n",
              "Columns: [Modalidad de Contratacion, Fecha de Publicacion del Proceso, Referencia del Proceso, Nombre del Procedimiento, Descripción del Procedimiento, Precio Base, Nombre de la Unidad de Contratación, URLProceso]\n",
              "Index: []"
            ]
          },
          "metadata": {},
          "execution_count": 14
        }
      ]
    },
    {
      "cell_type": "code",
      "metadata": {
        "colab": {
          "base_uri": "https://localhost:8080/",
          "height": 1000
        },
        "id": "xy3PlDE9YPIb",
        "outputId": "7f6623c6-49b9-482f-a231-43e902bd6f9f"
      },
      "source": [
        "sinnombre = (df_procesos[\"Descripción del Procedimiento\"] ==\"Sin nombre\" )\n",
        "sinnombree = df_procesos[sinnombre]\n",
        "sinnombree\n"
      ],
      "execution_count": 19,
      "outputs": [
        {
          "output_type": "execute_result",
          "data": {
            "text/html": [
              "<div>\n",
              "<style scoped>\n",
              "    .dataframe tbody tr th:only-of-type {\n",
              "        vertical-align: middle;\n",
              "    }\n",
              "\n",
              "    .dataframe tbody tr th {\n",
              "        vertical-align: top;\n",
              "    }\n",
              "\n",
              "    .dataframe thead th {\n",
              "        text-align: right;\n",
              "    }\n",
              "</style>\n",
              "<table border=\"1\" class=\"dataframe\">\n",
              "  <thead>\n",
              "    <tr style=\"text-align: right;\">\n",
              "      <th></th>\n",
              "      <th>Modalidad de Contratacion</th>\n",
              "      <th>Fecha de Publicacion del Proceso</th>\n",
              "      <th>Referencia del Proceso</th>\n",
              "      <th>Nombre del Procedimiento</th>\n",
              "      <th>Descripción del Procedimiento</th>\n",
              "      <th>Precio Base</th>\n",
              "      <th>Nombre de la Unidad de Contratación</th>\n",
              "      <th>URLProceso</th>\n",
              "    </tr>\n",
              "  </thead>\n",
              "  <tbody>\n",
              "    <tr>\n",
              "      <th>721</th>\n",
              "      <td>Mínima cuantía</td>\n",
              "      <td>05/06/2019</td>\n",
              "      <td>84004819</td>\n",
              "      <td>PRESTAR EL SERVICIO DEL MANTENIMIENTO PREVENTI...</td>\n",
              "      <td>Sin nombre</td>\n",
              "      <td>6500000</td>\n",
              "      <td>DIRECCION TERRITORIAL ORIENTE</td>\n",
              "      <td>https://community.secop.gov.co/Public/Tenderin...</td>\n",
              "    </tr>\n",
              "    <tr>\n",
              "      <th>785</th>\n",
              "      <td>Mínima cuantía</td>\n",
              "      <td>10/12/2018</td>\n",
              "      <td>SSPD-MC-820-06-2018</td>\n",
              "      <td>DESMONTE, TRANSPORTE Y MONTAJE DE LAS ESTANTER...</td>\n",
              "      <td>Sin nombre</td>\n",
              "      <td>16796000</td>\n",
              "      <td>DIRECCION TERRITORIAL NORTE</td>\n",
              "      <td>https://community.secop.gov.co/Public/Tenderin...</td>\n",
              "    </tr>\n",
              "    <tr>\n",
              "      <th>864</th>\n",
              "      <td>Contratación directa</td>\n",
              "      <td>28/12/2018</td>\n",
              "      <td>085004018</td>\n",
              "      <td>Prestar sus servicios profesionales en la aten...</td>\n",
              "      <td>Sin nombre</td>\n",
              "      <td>19710080</td>\n",
              "      <td>DIRECCION TERRITORIAL SUROCCIDENTE</td>\n",
              "      <td>https://community.secop.gov.co/Public/Tenderin...</td>\n",
              "    </tr>\n",
              "    <tr>\n",
              "      <th>1395</th>\n",
              "      <td>Contratación directa</td>\n",
              "      <td>17/01/2019</td>\n",
              "      <td>85000519</td>\n",
              "      <td>Prestar los servicios profesionales como gesto...</td>\n",
              "      <td>Sin nombre</td>\n",
              "      <td>39655000</td>\n",
              "      <td>DIRECCION TERRITORIAL SUROCCIDENTE</td>\n",
              "      <td>https://community.secop.gov.co/Public/Tenderin...</td>\n",
              "    </tr>\n",
              "    <tr>\n",
              "      <th>1551</th>\n",
              "      <td>Contratación directa</td>\n",
              "      <td>15/02/2021</td>\n",
              "      <td>81000621</td>\n",
              "      <td>prestar los servicios de apoyo a la gestión  e...</td>\n",
              "      <td>Sin nombre</td>\n",
              "      <td>15860000</td>\n",
              "      <td>DIRECCCION TERRITORIAL CENTRO</td>\n",
              "      <td>https://community.secop.gov.co/Public/Tenderin...</td>\n",
              "    </tr>\n",
              "    <tr>\n",
              "      <th>1642</th>\n",
              "      <td>Contratación directa</td>\n",
              "      <td>22/02/2021</td>\n",
              "      <td>85001821</td>\n",
              "      <td>Prestar los servicios profesionales para la or...</td>\n",
              "      <td>Sin nombre</td>\n",
              "      <td>34883314</td>\n",
              "      <td>DIRECCION TERRITORIAL SUROCCIDENTE</td>\n",
              "      <td>https://community.secop.gov.co/Public/Tenderin...</td>\n",
              "    </tr>\n",
              "    <tr>\n",
              "      <th>1691</th>\n",
              "      <td>Mínima cuantía</td>\n",
              "      <td>11/06/2019</td>\n",
              "      <td>SSPD-MC-840-03-2019</td>\n",
              "      <td>de  PRESTAR EL  SERVICIO DE MANTENIMIENTO GENE...</td>\n",
              "      <td>Sin nombre</td>\n",
              "      <td>9000000</td>\n",
              "      <td>DIRECCION TERRITORIAL ORIENTE</td>\n",
              "      <td>https://community.secop.gov.co/Public/Tenderin...</td>\n",
              "    </tr>\n",
              "    <tr>\n",
              "      <th>1977</th>\n",
              "      <td>Contratación directa</td>\n",
              "      <td>20/01/2021</td>\n",
              "      <td>81001821</td>\n",
              "      <td>Prestar los servicios profesionales en la aten...</td>\n",
              "      <td>Sin nombre</td>\n",
              "      <td>31744600</td>\n",
              "      <td>DIRECCCION TERRITORIAL CENTRO</td>\n",
              "      <td>https://community.secop.gov.co/Public/Tenderin...</td>\n",
              "    </tr>\n",
              "    <tr>\n",
              "      <th>2015</th>\n",
              "      <td>Contratación directa</td>\n",
              "      <td>02/06/2021</td>\n",
              "      <td>054005021</td>\n",
              "      <td>Prestar los servicios profesionales para la ge...</td>\n",
              "      <td>Sin nombre</td>\n",
              "      <td>31350000</td>\n",
              "      <td>DIRECCION ADMINISTRATIVA</td>\n",
              "      <td>https://community.secop.gov.co/Public/Tenderin...</td>\n",
              "    </tr>\n",
              "    <tr>\n",
              "      <th>2194</th>\n",
              "      <td>Contratación directa</td>\n",
              "      <td>29/12/2018</td>\n",
              "      <td>82016418</td>\n",
              "      <td>Prestar servicios profesionales jurídicos para...</td>\n",
              "      <td>Sin nombre</td>\n",
              "      <td>19136000</td>\n",
              "      <td>DIRECCION TERRITORIAL NORTE</td>\n",
              "      <td>https://community.secop.gov.co/Public/Tenderin...</td>\n",
              "    </tr>\n",
              "    <tr>\n",
              "      <th>2316</th>\n",
              "      <td>Contratación directa</td>\n",
              "      <td>23/08/2018</td>\n",
              "      <td>82010118</td>\n",
              "      <td>Prestar servicios profesionales que brinden so...</td>\n",
              "      <td>Sin nombre</td>\n",
              "      <td>12480000</td>\n",
              "      <td>DIRECCION TERRITORIAL NORTE</td>\n",
              "      <td>https://community.secop.gov.co/Public/Tenderin...</td>\n",
              "    </tr>\n",
              "    <tr>\n",
              "      <th>2797</th>\n",
              "      <td>Contratación directa</td>\n",
              "      <td>14/01/2019</td>\n",
              "      <td>81000319</td>\n",
              "      <td>servicios de apoyo a la gestión de la Direcció...</td>\n",
              "      <td>Sin nombre</td>\n",
              "      <td>18720000</td>\n",
              "      <td>DIRECCCION TERRITORIAL CENTRO</td>\n",
              "      <td>https://community.secop.gov.co/Public/Tenderin...</td>\n",
              "    </tr>\n",
              "  </tbody>\n",
              "</table>\n",
              "</div>"
            ],
            "text/plain": [
              "     Modalidad de Contratacion Fecha de Publicacion del Proceso  \\\n",
              "721             Mínima cuantía                       05/06/2019   \n",
              "785             Mínima cuantía                       10/12/2018   \n",
              "864       Contratación directa                       28/12/2018   \n",
              "1395      Contratación directa                       17/01/2019   \n",
              "1551      Contratación directa                       15/02/2021   \n",
              "1642      Contratación directa                       22/02/2021   \n",
              "1691            Mínima cuantía                       11/06/2019   \n",
              "1977      Contratación directa                       20/01/2021   \n",
              "2015      Contratación directa                       02/06/2021   \n",
              "2194      Contratación directa                       29/12/2018   \n",
              "2316      Contratación directa                       23/08/2018   \n",
              "2797      Contratación directa                       14/01/2019   \n",
              "\n",
              "     Referencia del Proceso  \\\n",
              "721                84004819   \n",
              "785     SSPD-MC-820-06-2018   \n",
              "864               085004018   \n",
              "1395               85000519   \n",
              "1551               81000621   \n",
              "1642               85001821   \n",
              "1691    SSPD-MC-840-03-2019   \n",
              "1977               81001821   \n",
              "2015              054005021   \n",
              "2194               82016418   \n",
              "2316               82010118   \n",
              "2797               81000319   \n",
              "\n",
              "                               Nombre del Procedimiento  \\\n",
              "721   PRESTAR EL SERVICIO DEL MANTENIMIENTO PREVENTI...   \n",
              "785   DESMONTE, TRANSPORTE Y MONTAJE DE LAS ESTANTER...   \n",
              "864   Prestar sus servicios profesionales en la aten...   \n",
              "1395  Prestar los servicios profesionales como gesto...   \n",
              "1551  prestar los servicios de apoyo a la gestión  e...   \n",
              "1642  Prestar los servicios profesionales para la or...   \n",
              "1691  de  PRESTAR EL  SERVICIO DE MANTENIMIENTO GENE...   \n",
              "1977  Prestar los servicios profesionales en la aten...   \n",
              "2015  Prestar los servicios profesionales para la ge...   \n",
              "2194  Prestar servicios profesionales jurídicos para...   \n",
              "2316  Prestar servicios profesionales que brinden so...   \n",
              "2797  servicios de apoyo a la gestión de la Direcció...   \n",
              "\n",
              "     Descripción del Procedimiento  Precio Base  \\\n",
              "721                     Sin nombre      6500000   \n",
              "785                     Sin nombre     16796000   \n",
              "864                     Sin nombre     19710080   \n",
              "1395                    Sin nombre     39655000   \n",
              "1551                    Sin nombre     15860000   \n",
              "1642                    Sin nombre     34883314   \n",
              "1691                    Sin nombre      9000000   \n",
              "1977                    Sin nombre     31744600   \n",
              "2015                    Sin nombre     31350000   \n",
              "2194                    Sin nombre     19136000   \n",
              "2316                    Sin nombre     12480000   \n",
              "2797                    Sin nombre     18720000   \n",
              "\n",
              "     Nombre de la Unidad de Contratación  \\\n",
              "721        DIRECCION TERRITORIAL ORIENTE   \n",
              "785          DIRECCION TERRITORIAL NORTE   \n",
              "864   DIRECCION TERRITORIAL SUROCCIDENTE   \n",
              "1395  DIRECCION TERRITORIAL SUROCCIDENTE   \n",
              "1551       DIRECCCION TERRITORIAL CENTRO   \n",
              "1642  DIRECCION TERRITORIAL SUROCCIDENTE   \n",
              "1691       DIRECCION TERRITORIAL ORIENTE   \n",
              "1977       DIRECCCION TERRITORIAL CENTRO   \n",
              "2015            DIRECCION ADMINISTRATIVA   \n",
              "2194         DIRECCION TERRITORIAL NORTE   \n",
              "2316         DIRECCION TERRITORIAL NORTE   \n",
              "2797       DIRECCCION TERRITORIAL CENTRO   \n",
              "\n",
              "                                             URLProceso  \n",
              "721   https://community.secop.gov.co/Public/Tenderin...  \n",
              "785   https://community.secop.gov.co/Public/Tenderin...  \n",
              "864   https://community.secop.gov.co/Public/Tenderin...  \n",
              "1395  https://community.secop.gov.co/Public/Tenderin...  \n",
              "1551  https://community.secop.gov.co/Public/Tenderin...  \n",
              "1642  https://community.secop.gov.co/Public/Tenderin...  \n",
              "1691  https://community.secop.gov.co/Public/Tenderin...  \n",
              "1977  https://community.secop.gov.co/Public/Tenderin...  \n",
              "2015  https://community.secop.gov.co/Public/Tenderin...  \n",
              "2194  https://community.secop.gov.co/Public/Tenderin...  \n",
              "2316  https://community.secop.gov.co/Public/Tenderin...  \n",
              "2797  https://community.secop.gov.co/Public/Tenderin...  "
            ]
          },
          "metadata": {},
          "execution_count": 19
        }
      ]
    },
    {
      "cell_type": "markdown",
      "metadata": {
        "id": "4X6eZt5GYKRK"
      },
      "source": [
        "Observamos que después de imputar ya no hay NA's."
      ]
    }
  ]
}