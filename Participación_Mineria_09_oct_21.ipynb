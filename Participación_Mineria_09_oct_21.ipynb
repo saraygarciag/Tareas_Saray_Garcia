{
  "nbformat": 4,
  "nbformat_minor": 0,
  "metadata": {
    "colab": {
      "name": "Participación Mineria 09-oct-21.ipynb",
      "provenance": [],
      "authorship_tag": "ABX9TyOUxIPsanT4oz3AZh2GFuBP",
      "include_colab_link": true
    },
    "kernelspec": {
      "name": "python3",
      "display_name": "Python 3"
    },
    "language_info": {
      "name": "python"
    }
  },
  "cells": [
    {
      "cell_type": "markdown",
      "metadata": {
        "id": "view-in-github",
        "colab_type": "text"
      },
      "source": [
        "<a href=\"https://colab.research.google.com/github/saraygarciag/Tareas_Saray_Garcia/blob/main/Participaci%C3%B3n_Mineria_09_oct_21.ipynb\" target=\"_parent\"><img src=\"https://colab.research.google.com/assets/colab-badge.svg\" alt=\"Open In Colab\"/></a>"
      ]
    },
    {
      "cell_type": "markdown",
      "metadata": {
        "id": "lY3yb1r1PITl"
      },
      "source": [
        "**Partcicpación minería de datos en python.**\n",
        "*Saray Daniella García Gelves.*"
      ]
    },
    {
      "cell_type": "code",
      "metadata": {
        "id": "Xzwd8aZr4Q6c"
      },
      "source": [
        "import pandas as pd\n",
        "import numpy as np\n",
        "\n",
        "%matplotlib inline\n",
        "import matplotlib.pyplot as plt\n",
        "from mpl_toolkits.mplot3d import Axes3D\n",
        "from matplotlib import cm\n",
        "import itertools\n",
        "\n",
        "plt.style.use('ggplot')"
      ],
      "execution_count": 1,
      "outputs": []
    },
    {
      "cell_type": "code",
      "metadata": {
        "colab": {
          "base_uri": "https://localhost:8080/",
          "height": 202
        },
        "id": "pZxD1t8U4hay",
        "outputId": "f614e486-e7b3-47f9-a268-59eeecb5d002"
      },
      "source": [
        "urlDataset = 'https://github.com/albahnsen/PracticalMachineLearningClass/raw/master/datasets/houses_prices_prediction.csv.zip'\n",
        "data = pd.read_csv(urlDataset)\n",
        "data.head()"
      ],
      "execution_count": 2,
      "outputs": [
        {
          "output_type": "execute_result",
          "data": {
            "text/html": [
              "<div>\n",
              "<style scoped>\n",
              "    .dataframe tbody tr th:only-of-type {\n",
              "        vertical-align: middle;\n",
              "    }\n",
              "\n",
              "    .dataframe tbody tr th {\n",
              "        vertical-align: top;\n",
              "    }\n",
              "\n",
              "    .dataframe thead th {\n",
              "        text-align: right;\n",
              "    }\n",
              "</style>\n",
              "<table border=\"1\" class=\"dataframe\">\n",
              "  <thead>\n",
              "    <tr style=\"text-align: right;\">\n",
              "      <th></th>\n",
              "      <th>area</th>\n",
              "      <th>bedroom</th>\n",
              "      <th>price</th>\n",
              "    </tr>\n",
              "  </thead>\n",
              "  <tbody>\n",
              "    <tr>\n",
              "      <th>0</th>\n",
              "      <td>2104</td>\n",
              "      <td>3</td>\n",
              "      <td>399900</td>\n",
              "    </tr>\n",
              "    <tr>\n",
              "      <th>1</th>\n",
              "      <td>1600</td>\n",
              "      <td>3</td>\n",
              "      <td>329900</td>\n",
              "    </tr>\n",
              "    <tr>\n",
              "      <th>2</th>\n",
              "      <td>2400</td>\n",
              "      <td>3</td>\n",
              "      <td>369000</td>\n",
              "    </tr>\n",
              "    <tr>\n",
              "      <th>3</th>\n",
              "      <td>1416</td>\n",
              "      <td>2</td>\n",
              "      <td>232000</td>\n",
              "    </tr>\n",
              "    <tr>\n",
              "      <th>4</th>\n",
              "      <td>3000</td>\n",
              "      <td>4</td>\n",
              "      <td>539900</td>\n",
              "    </tr>\n",
              "  </tbody>\n",
              "</table>\n",
              "</div>"
            ],
            "text/plain": [
              "   area  bedroom   price\n",
              "0  2104        3  399900\n",
              "1  1600        3  329900\n",
              "2  2400        3  369000\n",
              "3  1416        2  232000\n",
              "4  3000        4  539900"
            ]
          },
          "metadata": {},
          "execution_count": 2
        }
      ]
    },
    {
      "cell_type": "code",
      "metadata": {
        "id": "n8zVViu54kEB"
      },
      "source": [
        "# Crear variable area^2\n",
        "data['area2'] = data['area'] ** 2"
      ],
      "execution_count": 3,
      "outputs": []
    },
    {
      "cell_type": "code",
      "metadata": {
        "colab": {
          "base_uri": "https://localhost:8080/",
          "height": 278
        },
        "id": "iOK4QorV4kIw",
        "outputId": "24f47b5a-122b-421f-eb66-89e86e3c68b6"
      },
      "source": [
        "plt.style.use('bmh')\n",
        "y = data[' price'].values\n",
        "X = data['area'].values\n",
        "plt.scatter(X, y)\n",
        "plt.xlabel('Area')\n",
        "plt.ylabel('Price')\n",
        "plt.show()"
      ],
      "execution_count": 4,
      "outputs": [
        {
          "output_type": "display_data",
          "data": {
            "image/png": "[encoded data removed]",
            "text/plain": [
              "<Figure size 432x288 with 1 Axes>"
            ]
          },
          "metadata": {
            "needs_background": "light"
          }
        }
      ]
    },
    {
      "cell_type": "code",
      "metadata": {
        "id": "6UhVekY06dWV"
      },
      "source": [
        "# Crear variables para el modelo\n",
        "y = data[' price'].values\n",
        "X = data[['area','area2']].values\n",
        "\n",
        "# Estandarizar variables\n",
        "\n",
        "from sklearn.preprocessing import StandardScaler\n",
        "ss = StandardScaler(with_mean=True, with_std=True)\n",
        "ss.fit(X.astype(np.float))\n",
        "X = ss.transform(X.astype(np.float))"
      ],
      "execution_count": 5,
      "outputs": []
    },
    {
      "cell_type": "code",
      "metadata": {
        "id": "qF9P_GgP6fwR"
      },
      "source": [
        "### Escoger los modelos a comparar\n",
        "from sklearn.linear_model import SGDRegressor\n",
        "from sklearn.linear_model import LinearRegression\n",
        "\n",
        "clf1 = LinearRegression()\n",
        "clf2 = SGDRegressor( max_iter=10000,tol=None)"
      ],
      "execution_count": 6,
      "outputs": []
    },
    {
      "cell_type": "code",
      "metadata": {
        "colab": {
          "base_uri": "https://localhost:8080/"
        },
        "id": "OxLLSKDa6gwH",
        "outputId": "288f2c2e-1c1d-438a-efad-299994e936f4"
      },
      "source": [
        "#Estimar los modelos\n",
        "clf1.fit(X, y)\n",
        "clf2.fit(X, y)"
      ],
      "execution_count": 7,
      "outputs": [
        {
          "output_type": "execute_result",
          "data": {
            "text/plain": [
              "SGDRegressor(alpha=0.0001, average=False, early_stopping=False, epsilon=0.1,\n",
              "             eta0=0.01, fit_intercept=True, l1_ratio=0.15,\n",
              "             learning_rate='invscaling', loss='squared_loss', max_iter=10000,\n",
              "             n_iter_no_change=5, penalty='l2', power_t=0.25, random_state=None,\n",
              "             shuffle=True, tol=None, validation_fraction=0.1, verbose=0,\n",
              "             warm_start=False)"
            ]
          },
          "metadata": {},
          "execution_count": 7
        }
      ]
    },
    {
      "cell_type": "code",
      "metadata": {
        "colab": {
          "base_uri": "https://localhost:8080/"
        },
        "id": "dV93rB3L6k91",
        "outputId": "035dba6d-fe70-422b-fe6b-5810910a2e6c"
      },
      "source": [
        "# Calcular los y estimados (gorrito) con la regresión \n",
        "y_pred_reg1 = clf1.predict(X)\n",
        "y_pred_reg2 = clf2.predict(X)\n",
        "\n",
        "y_pred_reg1\n",
        "y_pred_reg2"
      ],
      "execution_count": 13,
      "outputs": [
        {
          "output_type": "execute_result",
          "data": {
            "text/plain": [
              "array([355052.84458638, 286578.55053702, 395022.68652445, 261448.90564373,\n",
              "       475485.92152588, 338932.7469312 , 277572.72108278, 262953.192034  ,\n",
              "       256524.03438765, 272110.25186848, 332829.26928061, 340966.30748105,\n",
              "       326042.70855591, 670513.20402472, 241185.04732684, 381539.65844179,\n",
              "       248309.95082532, 236797.7077534 , 423135.3379791 , 479622.93215788,\n",
              "       309325.73357831, 325771.1384291 , 287124.06842707, 335813.71567887,\n",
              "       593466.46937999, 218127.85418421, 267191.19629456, 411981.81341768,\n",
              "       368035.91924033, 426894.75426304, 319115.08246807, 204375.58155729,\n",
              "       346386.85739092, 493753.80113688, 315309.3892603 , 264320.50764931,\n",
              "       237209.11093178, 358841.54639229, 636140.33855714, 362899.06788843,\n",
              "       295302.86024298, 373169.77990668, 417493.16901872, 231859.41569235,\n",
              "       183984.20902423, 320881.45950608, 232271.04255081])"
            ]
          },
          "metadata": {},
          "execution_count": 13
        }
      ]
    },
    {
      "cell_type": "code",
      "metadata": {
        "colab": {
          "base_uri": "https://localhost:8080/",
          "height": 202
        },
        "id": "-SfBv13a6mA9",
        "outputId": "e8df02e3-ace0-458b-efc7-7557ebac0a96"
      },
      "source": [
        "X_ = pd.DataFrame(X, columns = ['area_1','area_2'])\n",
        "X_.head()"
      ],
      "execution_count": 9,
      "outputs": [
        {
          "output_type": "execute_result",
          "data": {
            "text/html": [
              "<div>\n",
              "<style scoped>\n",
              "    .dataframe tbody tr th:only-of-type {\n",
              "        vertical-align: middle;\n",
              "    }\n",
              "\n",
              "    .dataframe tbody tr th {\n",
              "        vertical-align: top;\n",
              "    }\n",
              "\n",
              "    .dataframe thead th {\n",
              "        text-align: right;\n",
              "    }\n",
              "</style>\n",
              "<table border=\"1\" class=\"dataframe\">\n",
              "  <thead>\n",
              "    <tr style=\"text-align: right;\">\n",
              "      <th></th>\n",
              "      <th>area_1</th>\n",
              "      <th>area_2</th>\n",
              "    </tr>\n",
              "  </thead>\n",
              "  <tbody>\n",
              "    <tr>\n",
              "      <th>0</th>\n",
              "      <td>0.131415</td>\n",
              "      <td>-0.047860</td>\n",
              "    </tr>\n",
              "    <tr>\n",
              "      <th>1</th>\n",
              "      <td>-0.509641</td>\n",
              "      <td>-0.508354</td>\n",
              "    </tr>\n",
              "    <tr>\n",
              "      <th>2</th>\n",
              "      <td>0.507909</td>\n",
              "      <td>0.281001</td>\n",
              "    </tr>\n",
              "    <tr>\n",
              "      <th>3</th>\n",
              "      <td>-0.743677</td>\n",
              "      <td>-0.645244</td>\n",
              "    </tr>\n",
              "    <tr>\n",
              "      <th>4</th>\n",
              "      <td>1.271071</td>\n",
              "      <td>1.080222</td>\n",
              "    </tr>\n",
              "  </tbody>\n",
              "</table>\n",
              "</div>"
            ],
            "text/plain": [
              "     area_1    area_2\n",
              "0  0.131415 -0.047860\n",
              "1 -0.509641 -0.508354\n",
              "2  0.507909  0.281001\n",
              "3 -0.743677 -0.645244\n",
              "4  1.271071  1.080222"
            ]
          },
          "metadata": {},
          "execution_count": 9
        }
      ]
    },
    {
      "cell_type": "code",
      "metadata": {
        "colab": {
          "base_uri": "https://localhost:8080/"
        },
        "id": "hj05P9Wj6q3z",
        "outputId": "90b5ede2-4e83-4594-98d5-c66a55df1960"
      },
      "source": [
        "# Calcular el mse para cada uno de los modelos\n",
        "from sklearn import metrics\n",
        "import numpy as np\n",
        "print('MSE regresión lineal:', metrics.mean_squared_error(data[' price'], y_pred_reg1))\n",
        "print('MSE regresión SGD:', metrics.mean_squared_error(data[' price'], y_pred_reg2))"
      ],
      "execution_count": 10,
      "outputs": [
        {
          "output_type": "stream",
          "name": "stdout",
          "text": [
            "MSE regresión lineal: 4115290102.0599403\n",
            "MSE regresión SGD: 4115298050.566722\n"
          ]
        }
      ]
    },
    {
      "cell_type": "code",
      "metadata": {
        "colab": {
          "base_uri": "https://localhost:8080/"
        },
        "id": "IoemzlN0-1Fa",
        "outputId": "4121b5e1-c0b0-4e7d-b226-94cb31b57c5f"
      },
      "source": [
        "# Separar entre entrenamiento y test\n",
        "from sklearn.model_selection import train_test_split\n",
        "X_train, X_test, y_train, y_test = train_test_split(X, y, test_size=0.33, random_state=1)\n",
        "print(X_train.shape, X_test.shape, y_train.shape, y_test.shape)"
      ],
      "execution_count": 14,
      "outputs": [
        {
          "output_type": "stream",
          "name": "stdout",
          "text": [
            "(31, 2) (16, 2) (31,) (16,)\n"
          ]
        }
      ]
    },
    {
      "cell_type": "code",
      "metadata": {
        "colab": {
          "base_uri": "https://localhost:8080/"
        },
        "id": "xYm6tIANCIet",
        "outputId": "2472c7b9-960b-4e64-867b-3383bfdbf1d3"
      },
      "source": [
        "#Estimar los modelos con el conjunto de entrenamiento\n",
        "clf1_tt = LinearRegression()\n",
        "clf1_tt.fit(X_train, y_train)"
      ],
      "execution_count": 15,
      "outputs": [
        {
          "output_type": "execute_result",
          "data": {
            "text/plain": [
              "LinearRegression(copy_X=True, fit_intercept=True, n_jobs=None, normalize=False)"
            ]
          },
          "metadata": {},
          "execution_count": 15
        }
      ]
    },
    {
      "cell_type": "code",
      "metadata": {
        "id": "c7G4kq0QCLIX"
      },
      "source": [
        "# Calcular los y estimados (gorrito) con el conjunto de validación\n",
        "y_pred_tt = clf1.predict(X_test)"
      ],
      "execution_count": 16,
      "outputs": []
    },
    {
      "cell_type": "code",
      "metadata": {
        "colab": {
          "base_uri": "https://localhost:8080/"
        },
        "id": "5WSPpuMICMdH",
        "outputId": "096bbfb3-be2c-4620-f7a2-8f4aa5dbe424"
      },
      "source": [
        "# Calcular el mse para TEST,el modelo, de este sí nos podemos fiar porque estos que predijo con esos que vio contra los que no ha visto.\n",
        "print('MSE regresión líneal:', metrics.mean_squared_error(y_test, y_pred_tt))"
      ],
      "execution_count": 17,
      "outputs": [
        {
          "output_type": "stream",
          "name": "stdout",
          "text": [
            "MSE regresión SGD: 5923570564.699193\n"
          ]
        }
      ]
    },
    {
      "cell_type": "markdown",
      "metadata": {
        "id": "_yUFMdBLOoAk"
      },
      "source": [
        "## EJERCICIO DE PARTICIPACIÓN: Calcular el error de entrenamiento"
      ]
    },
    {
      "cell_type": "code",
      "metadata": {
        "id": "nWC9gXBvEDhy"
      },
      "source": [
        "# Calcular los y estimados (gorrito) con el conjunto de entrenamiento\n",
        "y_pred_tt2 = clf1.predict(X_train)"
      ],
      "execution_count": 21,
      "outputs": []
    },
    {
      "cell_type": "code",
      "metadata": {
        "colab": {
          "base_uri": "https://localhost:8080/"
        },
        "id": "8Fg5vGaiOzDy",
        "outputId": "fc2d58cc-932e-451d-e79c-fbecbf246060"
      },
      "source": [
        "# Calcular el mse para TRAIN:\n",
        "print('MSE regresión líneal:', metrics.mean_squared_error(y_train, y_pred_tt2))"
      ],
      "execution_count": 22,
      "outputs": [
        {
          "output_type": "stream",
          "name": "stdout",
          "text": [
            "MSE regresión líneal: 3181984056.8267765\n"
          ]
        }
      ]
    }
  ]
}