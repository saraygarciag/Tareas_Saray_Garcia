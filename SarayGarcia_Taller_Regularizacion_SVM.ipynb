{
  "nbformat": 4,
  "nbformat_minor": 0,
  "metadata": {
    "kernelspec": {
      "display_name": "Python 3",
      "language": "python",
      "name": "python3"
    },
    "language_info": {
      "codemirror_mode": {
        "name": "ipython",
        "version": 3
      },
      "file_extension": ".py",
      "mimetype": "text/x-python",
      "name": "python",
      "nbconvert_exporter": "python",
      "pygments_lexer": "ipython3",
      "version": "3.7.0"
    },
    "colab": {
      "name": "SarayGarcia - Taller_Regularizacion_SVM.ipynb",
      "provenance": [],
      "collapsed_sections": [],
      "include_colab_link": true
    }
  },
  "cells": [
    {
      "cell_type": "markdown",
      "metadata": {
        "id": "view-in-github",
        "colab_type": "text"
      },
      "source": [
        "<a href=\"https://colab.research.google.com/github/saraygarciag/Tareas_Saray_Garcia/blob/main/SarayGarcia_Taller_Regularizacion_SVM.ipynb\" target=\"_parent\"><img src=\"https://colab.research.google.com/assets/colab-badge.svg\" alt=\"Open In Colab\"/></a>"
      ]
    },
    {
      "cell_type": "markdown",
      "metadata": {
        "id": "goh8XqyWQwHS"
      },
      "source": [
        "## Taller Regularización y SVM\n",
        "\n",
        "\n",
        "Para esta tarea consideramos un conjunto de observaciones sobre una serie de variedades de vino tinto y blanco que implican sus propiedades químicas y su clasificación por parte de los catadores. La industria del vino ha experimentado un gran crecimiento en los últimos tiempos debido al aumento del consumo social. El precio del vino depende de un concepto bastante abstracto de apreciación del vino por parte de los catadores, cuya opinión puede tener un alto grado de variabilidad. El precio del vino depende en cierta medida de este factor tan volátil. Otro factor clave en la certificación y evaluación de la calidad del vino son las pruebas fisicoquímicas, que se realizan en laboratorio y tienen en cuenta factores como la acidez, el nivel de pH, la presencia de azúcar y otras propiedades químicas. Para el mercado del vino, sería interesante que la calidad humana de la cata pudiera relacionarse con las propiedades químicas del vino para que el proceso de certificación y evaluación de la calidad estuviera más controlado.\n",
        "\n",
        "Se dispone de dos conjuntos de datos, uno de los cuales se refiere al vino tinto y cuenta con 1.599 variedades diferentes, y el otro, al vino blanco, con 4.898 variedades. Todos los vinos se producen en una zona concreta de Portugal. Se recogen datos sobre 12 propiedades diferentes de los vinos, una de las cuales es la calidad, basada en datos sensoriales, y el resto son propiedades químicas de los vinos, como la densidad, la acidez, el contenido de alcohol, etc. Todas las propiedades químicas de los vinos son variables continuas. La calidad es una variable ordinal con una clasificación posible de 1 (peor) a 10 (mejor). Cada variedad de vino es catada por tres catadores independientes y la clasificación final asignada es la mediana de la clasificación dada por los catadores.\n",
        "\n",
        "Se espera que un modelo predictivo desarrollado a partir de estos datos sirva de orientación a los viñedos en cuanto a la calidad y el precio que se espera obtener de sus productos sin depender en gran medida de la volatilidad de los catadores.\n"
      ]
    },
    {
      "cell_type": "code",
      "metadata": {
        "id": "m4dAFqRiQwHd"
      },
      "source": [
        "import pandas as pd\n",
        "import numpy as np"
      ],
      "execution_count": 1,
      "outputs": []
    },
    {
      "cell_type": "code",
      "metadata": {
        "id": "j0S8ZSeuQwHh"
      },
      "source": [
        "data_r = pd.read_csv('https://github.com/albahnsen/PracticalMachineLearningClass/raw/master/datasets/Wine_data_red.csv')\n",
        "data_w = pd.read_csv('https://github.com/albahnsen/PracticalMachineLearningClass/raw/master/datasets/Wine_data_white.csv')"
      ],
      "execution_count": 2,
      "outputs": []
    },
    {
      "cell_type": "code",
      "metadata": {
        "colab": {
          "base_uri": "https://localhost:8080/",
          "height": 202
        },
        "id": "zL6G49RMQwHl",
        "outputId": "6f3ce53c-415c-4622-d6da-3c53aed96c51"
      },
      "source": [
        "data = data_w.assign(type = 'white')\n",
        "\n",
        "data = data.append(data_r.assign(type = 'red'), ignore_index=True)\n",
        "data.sample(5)"
      ],
      "execution_count": 3,
      "outputs": [
        {
          "output_type": "execute_result",
          "data": {
            "text/html": [
              "<div>\n",
              "<style scoped>\n",
              "    .dataframe tbody tr th:only-of-type {\n",
              "        vertical-align: middle;\n",
              "    }\n",
              "\n",
              "    .dataframe tbody tr th {\n",
              "        vertical-align: top;\n",
              "    }\n",
              "\n",
              "    .dataframe thead th {\n",
              "        text-align: right;\n",
              "    }\n",
              "</style>\n",
              "<table border=\"1\" class=\"dataframe\">\n",
              "  <thead>\n",
              "    <tr style=\"text-align: right;\">\n",
              "      <th></th>\n",
              "      <th>fixed acidity</th>\n",
              "      <th>volatile acidity</th>\n",
              "      <th>citric acid</th>\n",
              "      <th>residual sugar</th>\n",
              "      <th>chlorides</th>\n",
              "      <th>free sulfur dioxide</th>\n",
              "      <th>total sulfur dioxide</th>\n",
              "      <th>density</th>\n",
              "      <th>pH</th>\n",
              "      <th>sulphates</th>\n",
              "      <th>alcohol</th>\n",
              "      <th>quality</th>\n",
              "      <th>type</th>\n",
              "    </tr>\n",
              "  </thead>\n",
              "  <tbody>\n",
              "    <tr>\n",
              "      <th>653</th>\n",
              "      <td>5.9</td>\n",
              "      <td>0.24</td>\n",
              "      <td>0.26</td>\n",
              "      <td>12.3</td>\n",
              "      <td>0.053</td>\n",
              "      <td>34.0</td>\n",
              "      <td>134.0</td>\n",
              "      <td>0.99720</td>\n",
              "      <td>3.34</td>\n",
              "      <td>0.45</td>\n",
              "      <td>9.5</td>\n",
              "      <td>6</td>\n",
              "      <td>white</td>\n",
              "    </tr>\n",
              "    <tr>\n",
              "      <th>2904</th>\n",
              "      <td>6.4</td>\n",
              "      <td>0.25</td>\n",
              "      <td>0.32</td>\n",
              "      <td>0.9</td>\n",
              "      <td>0.034</td>\n",
              "      <td>40.0</td>\n",
              "      <td>114.0</td>\n",
              "      <td>0.99114</td>\n",
              "      <td>3.31</td>\n",
              "      <td>0.58</td>\n",
              "      <td>10.8</td>\n",
              "      <td>7</td>\n",
              "      <td>white</td>\n",
              "    </tr>\n",
              "    <tr>\n",
              "      <th>6020</th>\n",
              "      <td>6.3</td>\n",
              "      <td>0.47</td>\n",
              "      <td>0.00</td>\n",
              "      <td>1.4</td>\n",
              "      <td>0.055</td>\n",
              "      <td>27.0</td>\n",
              "      <td>33.0</td>\n",
              "      <td>0.99220</td>\n",
              "      <td>3.45</td>\n",
              "      <td>0.48</td>\n",
              "      <td>12.3</td>\n",
              "      <td>6</td>\n",
              "      <td>red</td>\n",
              "    </tr>\n",
              "    <tr>\n",
              "      <th>2335</th>\n",
              "      <td>8.3</td>\n",
              "      <td>0.27</td>\n",
              "      <td>0.34</td>\n",
              "      <td>10.2</td>\n",
              "      <td>0.048</td>\n",
              "      <td>50.0</td>\n",
              "      <td>118.0</td>\n",
              "      <td>0.99716</td>\n",
              "      <td>3.18</td>\n",
              "      <td>0.51</td>\n",
              "      <td>10.3</td>\n",
              "      <td>5</td>\n",
              "      <td>white</td>\n",
              "    </tr>\n",
              "    <tr>\n",
              "      <th>3478</th>\n",
              "      <td>6.2</td>\n",
              "      <td>0.36</td>\n",
              "      <td>0.45</td>\n",
              "      <td>10.4</td>\n",
              "      <td>0.060</td>\n",
              "      <td>22.0</td>\n",
              "      <td>184.0</td>\n",
              "      <td>0.99711</td>\n",
              "      <td>3.31</td>\n",
              "      <td>0.56</td>\n",
              "      <td>9.8</td>\n",
              "      <td>6</td>\n",
              "      <td>white</td>\n",
              "    </tr>\n",
              "  </tbody>\n",
              "</table>\n",
              "</div>"
            ],
            "text/plain": [
              "      fixed acidity  volatile acidity  citric acid  ...  alcohol  quality   type\n",
              "653             5.9              0.24         0.26  ...      9.5        6  white\n",
              "2904            6.4              0.25         0.32  ...     10.8        7  white\n",
              "6020            6.3              0.47         0.00  ...     12.3        6    red\n",
              "2335            8.3              0.27         0.34  ...     10.3        5  white\n",
              "3478            6.2              0.36         0.45  ...      9.8        6  white\n",
              "\n",
              "[5 rows x 13 columns]"
            ]
          },
          "metadata": {},
          "execution_count": 3
        }
      ]
    },
    {
      "cell_type": "code",
      "metadata": {
        "colab": {
          "base_uri": "https://localhost:8080/"
        },
        "id": "v4tG3aszSHwx",
        "outputId": "e858b1ae-26e2-4991-df1e-7f952a040fc1"
      },
      "source": [
        "data.quality.value_counts()"
      ],
      "execution_count": 4,
      "outputs": [
        {
          "output_type": "execute_result",
          "data": {
            "text/plain": [
              "6    2836\n",
              "5    2138\n",
              "7    1079\n",
              "4     216\n",
              "8     193\n",
              "3      30\n",
              "9       5\n",
              "Name: quality, dtype: int64"
            ]
          },
          "metadata": {},
          "execution_count": 4
        }
      ]
    },
    {
      "cell_type": "code",
      "metadata": {
        "colab": {
          "base_uri": "https://localhost:8080/"
        },
        "id": "Aulg4Pz5SIDO",
        "outputId": "4c70e58e-146e-42bb-f67d-09c45ca200e3"
      },
      "source": [
        "data.type.value_counts()"
      ],
      "execution_count": 5,
      "outputs": [
        {
          "output_type": "execute_result",
          "data": {
            "text/plain": [
              "white    4898\n",
              "red      1599\n",
              "Name: type, dtype: int64"
            ]
          },
          "metadata": {},
          "execution_count": 5
        }
      ]
    },
    {
      "cell_type": "markdown",
      "metadata": {
        "id": "ijwzlA_FQwHq"
      },
      "source": [
        "# Ejercicio 1\n",
        "\n",
        "Mostrar la tabla de frecuencias de la calidad por tipo de vino."
      ]
    },
    {
      "cell_type": "code",
      "metadata": {
        "id": "4s07Ier6QwHs",
        "colab": {
          "base_uri": "https://localhost:8080/"
        },
        "outputId": "297264fe-d9e2-4fef-e1bb-daae3b828ccb"
      },
      "source": [
        "100 * data['type'].value_counts() / len(data['type'])"
      ],
      "execution_count": 6,
      "outputs": [
        {
          "output_type": "execute_result",
          "data": {
            "text/plain": [
              "white    75.388641\n",
              "red      24.611359\n",
              "Name: type, dtype: float64"
            ]
          },
          "metadata": {},
          "execution_count": 6
        }
      ]
    },
    {
      "cell_type": "code",
      "metadata": {
        "colab": {
          "base_uri": "https://localhost:8080/",
          "height": 294
        },
        "id": "6VpL01EOQipH",
        "outputId": "d12d2121-5aac-46bb-cb3e-5f3b6e38ff23"
      },
      "source": [
        "pd.crosstab(data.quality,data.type, normalize='index')\\\n",
        "    .round(4)"
      ],
      "execution_count": 7,
      "outputs": [
        {
          "output_type": "execute_result",
          "data": {
            "text/html": [
              "<div>\n",
              "<style scoped>\n",
              "    .dataframe tbody tr th:only-of-type {\n",
              "        vertical-align: middle;\n",
              "    }\n",
              "\n",
              "    .dataframe tbody tr th {\n",
              "        vertical-align: top;\n",
              "    }\n",
              "\n",
              "    .dataframe thead th {\n",
              "        text-align: right;\n",
              "    }\n",
              "</style>\n",
              "<table border=\"1\" class=\"dataframe\">\n",
              "  <thead>\n",
              "    <tr style=\"text-align: right;\">\n",
              "      <th>type</th>\n",
              "      <th>red</th>\n",
              "      <th>white</th>\n",
              "    </tr>\n",
              "    <tr>\n",
              "      <th>quality</th>\n",
              "      <th></th>\n",
              "      <th></th>\n",
              "    </tr>\n",
              "  </thead>\n",
              "  <tbody>\n",
              "    <tr>\n",
              "      <th>3</th>\n",
              "      <td>0.3333</td>\n",
              "      <td>0.6667</td>\n",
              "    </tr>\n",
              "    <tr>\n",
              "      <th>4</th>\n",
              "      <td>0.2454</td>\n",
              "      <td>0.7546</td>\n",
              "    </tr>\n",
              "    <tr>\n",
              "      <th>5</th>\n",
              "      <td>0.3185</td>\n",
              "      <td>0.6815</td>\n",
              "    </tr>\n",
              "    <tr>\n",
              "      <th>6</th>\n",
              "      <td>0.2250</td>\n",
              "      <td>0.7750</td>\n",
              "    </tr>\n",
              "    <tr>\n",
              "      <th>7</th>\n",
              "      <td>0.1844</td>\n",
              "      <td>0.8156</td>\n",
              "    </tr>\n",
              "    <tr>\n",
              "      <th>8</th>\n",
              "      <td>0.0933</td>\n",
              "      <td>0.9067</td>\n",
              "    </tr>\n",
              "    <tr>\n",
              "      <th>9</th>\n",
              "      <td>0.0000</td>\n",
              "      <td>1.0000</td>\n",
              "    </tr>\n",
              "  </tbody>\n",
              "</table>\n",
              "</div>"
            ],
            "text/plain": [
              "type        red   white\n",
              "quality                \n",
              "3        0.3333  0.6667\n",
              "4        0.2454  0.7546\n",
              "5        0.3185  0.6815\n",
              "6        0.2250  0.7750\n",
              "7        0.1844  0.8156\n",
              "8        0.0933  0.9067\n",
              "9        0.0000  1.0000"
            ]
          },
          "metadata": {},
          "execution_count": 7
        }
      ]
    },
    {
      "cell_type": "code",
      "metadata": {
        "colab": {
          "base_uri": "https://localhost:8080/",
          "height": 294
        },
        "id": "2g3n32vkExg3",
        "outputId": "3ab15729-8c30-496b-cfaf-cdc61f0ee6f6"
      },
      "source": [
        "pd.crosstab(index=data[\"quality\"],     \n",
        "                      columns=[data[\"type\"]])"
      ],
      "execution_count": 10,
      "outputs": [
        {
          "output_type": "execute_result",
          "data": {
            "text/html": [
              "<div>\n",
              "<style scoped>\n",
              "    .dataframe tbody tr th:only-of-type {\n",
              "        vertical-align: middle;\n",
              "    }\n",
              "\n",
              "    .dataframe tbody tr th {\n",
              "        vertical-align: top;\n",
              "    }\n",
              "\n",
              "    .dataframe thead th {\n",
              "        text-align: right;\n",
              "    }\n",
              "</style>\n",
              "<table border=\"1\" class=\"dataframe\">\n",
              "  <thead>\n",
              "    <tr style=\"text-align: right;\">\n",
              "      <th>type</th>\n",
              "      <th>red</th>\n",
              "      <th>white</th>\n",
              "    </tr>\n",
              "    <tr>\n",
              "      <th>quality</th>\n",
              "      <th></th>\n",
              "      <th></th>\n",
              "    </tr>\n",
              "  </thead>\n",
              "  <tbody>\n",
              "    <tr>\n",
              "      <th>3</th>\n",
              "      <td>10</td>\n",
              "      <td>20</td>\n",
              "    </tr>\n",
              "    <tr>\n",
              "      <th>4</th>\n",
              "      <td>53</td>\n",
              "      <td>163</td>\n",
              "    </tr>\n",
              "    <tr>\n",
              "      <th>5</th>\n",
              "      <td>681</td>\n",
              "      <td>1457</td>\n",
              "    </tr>\n",
              "    <tr>\n",
              "      <th>6</th>\n",
              "      <td>638</td>\n",
              "      <td>2198</td>\n",
              "    </tr>\n",
              "    <tr>\n",
              "      <th>7</th>\n",
              "      <td>199</td>\n",
              "      <td>880</td>\n",
              "    </tr>\n",
              "    <tr>\n",
              "      <th>8</th>\n",
              "      <td>18</td>\n",
              "      <td>175</td>\n",
              "    </tr>\n",
              "    <tr>\n",
              "      <th>9</th>\n",
              "      <td>0</td>\n",
              "      <td>5</td>\n",
              "    </tr>\n",
              "  </tbody>\n",
              "</table>\n",
              "</div>"
            ],
            "text/plain": [
              "type     red  white\n",
              "quality            \n",
              "3         10     20\n",
              "4         53    163\n",
              "5        681   1457\n",
              "6        638   2198\n",
              "7        199    880\n",
              "8         18    175\n",
              "9          0      5"
            ]
          },
          "metadata": {},
          "execution_count": 10
        }
      ]
    },
    {
      "cell_type": "code",
      "metadata": {
        "colab": {
          "base_uri": "https://localhost:8080/",
          "height": 275
        },
        "id": "58Nw7B7tQ1KT",
        "outputId": "51eb6c12-94f8-4085-823a-56240407bd3a"
      },
      "source": [
        "plot = pd.crosstab(index=data['quality'],\n",
        "            columns=data['type']).apply(lambda r: r/r.sum() *100,\n",
        "                                              axis=1).plot(kind='bar')"
      ],
      "execution_count": 9,
      "outputs": [
        {
          "output_type": "display_data",
          "data": {
            "image/png": "[encoded data removed]",
            "text/plain": [
              "<Figure size 432x288 with 1 Axes>"
            ]
          },
          "metadata": {
            "needs_background": "light"
          }
        }
      ]
    },
    {
      "cell_type": "markdown",
      "metadata": {
        "id": "vchxRubOQwH_"
      },
      "source": [
        "# Regularización"
      ]
    },
    {
      "cell_type": "markdown",
      "metadata": {
        "id": "v2kdBq6RQwIA"
      },
      "source": [
        "# Ejercicio 2\n",
        "\n",
        "* Entrenar una regresión lineal para predecir la calidad del vino (Continuo)\n",
        "\n",
        "* Analice los coeficientes\n",
        "\n",
        "* Evaluar el RMSE"
      ]
    },
    {
      "cell_type": "code",
      "metadata": {
        "collapsed": true,
        "id": "vnOeNRQvQwIC"
      },
      "source": [
        "from sklearn.model_selection import train_test_split\n",
        "from sklearn import metrics\n",
        "\n",
        "from sklearn.linear_model import LinearRegression\n",
        "from sklearn.linear_model import Ridge\n",
        "from sklearn.linear_model import Lasso\n",
        "\n",
        "from sklearn.preprocessing import StandardScaler\n",
        "from sklearn.linear_model import LogisticRegression\n",
        "\n",
        "from sklearn.metrics import roc_auc_score\n",
        "\n",
        "from sklearn.preprocessing import StandardScaler\n",
        "from sklearn.svm import SVC\n",
        "\n",
        "from sklearn.model_selection import GridSearchCV"
      ],
      "execution_count": 11,
      "outputs": []
    },
    {
      "cell_type": "code",
      "metadata": {
        "id": "GDwUncPpF_Fm"
      },
      "source": [
        "data['type2'] = data['type'].map({'white':0, 'red':1})\n",
        "data['quality2'] = data.quality.map({3:0, 4:0, 5:0, 6:1, 7:1, 8:1, 9:1})"
      ],
      "execution_count": 12,
      "outputs": []
    },
    {
      "cell_type": "code",
      "metadata": {
        "colab": {
          "base_uri": "https://localhost:8080/"
        },
        "id": "NrKccFMoGE0a",
        "outputId": "fb9813f8-d8f1-461f-84b7-33c79a77f654"
      },
      "source": [
        "feature_cols = ['fixed acidity', 'volatile acidity', 'citric acid', 'residual sugar', 'chlorides', 'free sulfur dioxide',\n",
        "                 'total sulfur dioxide', 'density', 'pH', 'sulphates', 'alcohol','type2']\n",
        "\n",
        "X = data[feature_cols]\n",
        "y = data.quality\n",
        "\n",
        "X_train, X_test, y_train, y_test = train_test_split(X, y, test_size=0.2, random_state=123)\n",
        "print(X_train.shape, X_test.shape, y_train.shape, y_test.shape)"
      ],
      "execution_count": 83,
      "outputs": [
        {
          "output_type": "stream",
          "name": "stdout",
          "text": [
            "(5197, 12) (1300, 12) (5197,) (1300,)\n"
          ]
        }
      ]
    },
    {
      "cell_type": "code",
      "metadata": {
        "colab": {
          "base_uri": "https://localhost:8080/"
        },
        "id": "v9k_ZtciGHjq",
        "outputId": "5f4d899d-ebed-4ea7-c930-ddf6d9e160f5"
      },
      "source": [
        "#Modelo de regresión lineal:\n",
        "modeloreg = LinearRegression()\n",
        "modeloreg.fit(X_train, y_train)\n",
        "y_pred = modeloreg.predict(X_test)\n",
        "\n",
        "print(\"Coeficientes regresión lineal: \",modeloreg.coef_)\n",
        "\n",
        "# RMSE:\n",
        "print(\"RMSE: \",np.sqrt(metrics.mean_squared_error(y_test, y_pred)))"
      ],
      "execution_count": 46,
      "outputs": [
        {
          "output_type": "stream",
          "name": "stdout",
          "text": [
            "Coeficientes regresión lineal:  [ 8.54940888e-02 -1.49758834e+00 -6.78944004e-02  6.41440109e-02\n",
            " -7.78717492e-01  4.71921844e-03 -1.23848988e-03 -1.04642791e+02\n",
            "  5.07676763e-01  6.92181980e-01  2.32039126e-01  3.84830323e-01]\n",
            "RMSE:  0.7412790604053446\n"
          ]
        }
      ]
    },
    {
      "cell_type": "markdown",
      "metadata": {
        "id": "qgobyvzSGj3Z"
      },
      "source": [
        "### Análisis: \n",
        "\n",
        "\n",
        "*   Si fixed acidity aumenta en una unidad, la calidad del vino aumentaría en 0.085494.\n",
        "*   Si volatile acidity aumenta en una unidad, la calidad del vino disminuirá en 1.4975.\n",
        "*   Si citric acid aumenta en una unidad, la calidad del vino disminuirá en 0.0678.\n",
        "*   Si residual sugar aumenta en una unidad, la calidad del vino aumentaría en 0.064144.\n",
        "*   Si chlorides aumenta en una unidad, la calidad del vino disminuirá en 0.7787.\n",
        "*   Si free sulfur dioxide aumenta en una unidad, la calidad del vino aumentaría en 0.04719.\n",
        "*   Si total sulfur dioxide aumenta en una unidad, la calidad del vino disminuirá en 1.2384.\n",
        "*   Si density aumenta en una unidad, la calidad del vino disminuirá en 1.0464.\n",
        "*   Si pH aumenta en una unidad, la calidad del vino aumentaría en 0.507.\n",
        "*   Si sulphates aumenta en una unidad, la calidad del vino aumentaría en 0.69218.\n",
        "*   Si alcohol aumenta en una unidad, la calidad del vino aumentaría en 0.2320.\n",
        "*   Si es más probable que sea tipo de vino rojo en una unidad, la calidad del vino aumentaría en 0.3848.\n",
        "\n",
        "\n",
        "\n",
        "\n",
        "\n",
        "\n",
        "\n",
        "\n",
        "\n",
        "\n",
        "\n"
      ]
    },
    {
      "cell_type": "markdown",
      "metadata": {
        "id": "V_mBGZY-QwIC"
      },
      "source": [
        "# Ejercicio 3\n",
        "\n",
        "* Estimar una regresión de Ridge con alfa igual a 0,1 y 1.\n",
        "* Compare y analice los coeficientes de Ridge con la regresión lineal\n",
        "* Evaluar el RMSE"
      ]
    },
    {
      "cell_type": "code",
      "metadata": {
        "id": "IgQWhy88NbGQ"
      },
      "source": [
        "from sklearn.linear_model import Ridge\n",
        "from sklearn import metrics"
      ],
      "execution_count": 25,
      "outputs": []
    },
    {
      "cell_type": "code",
      "metadata": {
        "colab": {
          "base_uri": "https://localhost:8080/"
        },
        "id": "UBhTvS8DNNi7",
        "outputId": "13b7c0a5-7c81-44fe-e18e-5d0414073f30"
      },
      "source": [
        "#Ridge con alfa=0.1\n",
        "ridgereg1 = Ridge(alpha=0.1, normalize=True)\n",
        "ridgereg1.fit(X_train, y_train)\n",
        "y1_pred = ridgereg1.predict(X_test)\n",
        "print(\"Coeficientes de Ridge con alpha = 0.1: \", '\\n', '\\n', ridgereg1.coef_)"
      ],
      "execution_count": 37,
      "outputs": [
        {
          "output_type": "stream",
          "name": "stdout",
          "text": [
            "Coeficientes de Ridge con alpha = 0.1:  \n",
            " \n",
            " [ 2.44588347e-02 -1.23753983e+00  3.14879877e-02  2.99064342e-02\n",
            " -1.20249690e+00  4.40719004e-03 -1.38038043e-03 -3.77806705e+01\n",
            "  2.22099107e-01  5.89285509e-01  2.62397115e-01  1.39215540e-01]\n"
          ]
        }
      ]
    },
    {
      "cell_type": "code",
      "metadata": {
        "collapsed": true,
        "id": "jzUrCbUyQwID",
        "colab": {
          "base_uri": "https://localhost:8080/"
        },
        "outputId": "47f98f6e-a3d3-4224-a5f0-369c210065b9"
      },
      "source": [
        "#Ridge con alfa=1\n",
        "ridgereg2 = Ridge(alpha=1, normalize=True)\n",
        "ridgereg2.fit(X_train, y_train)\n",
        "y2_pred = ridgereg2.predict(X_test)\n",
        "print(\"Coeficientes de Ridge con alpha = 1: \", '\\n', '\\n', ridgereg2.coef_)"
      ],
      "execution_count": 29,
      "outputs": [
        {
          "output_type": "stream",
          "name": "stdout",
          "text": [
            "Coeficientes de Ridge con alpha = 1:  \n",
            " \n",
            " [ 1.86223905e-04 -5.68051730e-01  1.68619002e-01  5.73521034e-03\n",
            " -1.33305626e+00  1.61200670e-03 -5.81848853e-04 -2.30475660e+01\n",
            "  7.65433089e-02  2.91695372e-01  1.40694735e-01 -1.26603805e-02]\n"
          ]
        }
      ]
    },
    {
      "cell_type": "code",
      "metadata": {
        "colab": {
          "base_uri": "https://localhost:8080/",
          "height": 416
        },
        "id": "xUg4Qzy2PPUJ",
        "outputId": "e775db8c-7cab-450c-cf2b-a6ee51fcf729"
      },
      "source": [
        "compara = pd.DataFrame({'Variables': X.columns,'Regresión lineal':modeloreg.coef_,\n",
        "                   'Regresión Ridge 0.1':ridgereg1.coef_,'Regresión Ridge 1':ridgereg2.coef_})\n",
        "compara"
      ],
      "execution_count": 41,
      "outputs": [
        {
          "output_type": "execute_result",
          "data": {
            "text/html": [
              "<div>\n",
              "<style scoped>\n",
              "    .dataframe tbody tr th:only-of-type {\n",
              "        vertical-align: middle;\n",
              "    }\n",
              "\n",
              "    .dataframe tbody tr th {\n",
              "        vertical-align: top;\n",
              "    }\n",
              "\n",
              "    .dataframe thead th {\n",
              "        text-align: right;\n",
              "    }\n",
              "</style>\n",
              "<table border=\"1\" class=\"dataframe\">\n",
              "  <thead>\n",
              "    <tr style=\"text-align: right;\">\n",
              "      <th></th>\n",
              "      <th>Variables</th>\n",
              "      <th>Regresión lineal</th>\n",
              "      <th>Regresión Ridge 0.1</th>\n",
              "      <th>Regresión Ridge 1</th>\n",
              "    </tr>\n",
              "  </thead>\n",
              "  <tbody>\n",
              "    <tr>\n",
              "      <th>0</th>\n",
              "      <td>fixed acidity</td>\n",
              "      <td>0.085494</td>\n",
              "      <td>0.024459</td>\n",
              "      <td>0.000186</td>\n",
              "    </tr>\n",
              "    <tr>\n",
              "      <th>1</th>\n",
              "      <td>volatile acidity</td>\n",
              "      <td>-1.497588</td>\n",
              "      <td>-1.237540</td>\n",
              "      <td>-0.568052</td>\n",
              "    </tr>\n",
              "    <tr>\n",
              "      <th>2</th>\n",
              "      <td>citric acid</td>\n",
              "      <td>-0.067894</td>\n",
              "      <td>0.031488</td>\n",
              "      <td>0.168619</td>\n",
              "    </tr>\n",
              "    <tr>\n",
              "      <th>3</th>\n",
              "      <td>residual sugar</td>\n",
              "      <td>0.064144</td>\n",
              "      <td>0.029906</td>\n",
              "      <td>0.005735</td>\n",
              "    </tr>\n",
              "    <tr>\n",
              "      <th>4</th>\n",
              "      <td>chlorides</td>\n",
              "      <td>-0.778717</td>\n",
              "      <td>-1.202497</td>\n",
              "      <td>-1.333056</td>\n",
              "    </tr>\n",
              "    <tr>\n",
              "      <th>5</th>\n",
              "      <td>free sulfur dioxide</td>\n",
              "      <td>0.004719</td>\n",
              "      <td>0.004407</td>\n",
              "      <td>0.001612</td>\n",
              "    </tr>\n",
              "    <tr>\n",
              "      <th>6</th>\n",
              "      <td>total sulfur dioxide</td>\n",
              "      <td>-0.001238</td>\n",
              "      <td>-0.001380</td>\n",
              "      <td>-0.000582</td>\n",
              "    </tr>\n",
              "    <tr>\n",
              "      <th>7</th>\n",
              "      <td>density</td>\n",
              "      <td>-104.642791</td>\n",
              "      <td>-37.780670</td>\n",
              "      <td>-23.047566</td>\n",
              "    </tr>\n",
              "    <tr>\n",
              "      <th>8</th>\n",
              "      <td>pH</td>\n",
              "      <td>0.507677</td>\n",
              "      <td>0.222099</td>\n",
              "      <td>0.076543</td>\n",
              "    </tr>\n",
              "    <tr>\n",
              "      <th>9</th>\n",
              "      <td>sulphates</td>\n",
              "      <td>0.692182</td>\n",
              "      <td>0.589286</td>\n",
              "      <td>0.291695</td>\n",
              "    </tr>\n",
              "    <tr>\n",
              "      <th>10</th>\n",
              "      <td>alcohol</td>\n",
              "      <td>0.232039</td>\n",
              "      <td>0.262397</td>\n",
              "      <td>0.140695</td>\n",
              "    </tr>\n",
              "    <tr>\n",
              "      <th>11</th>\n",
              "      <td>type2</td>\n",
              "      <td>0.384830</td>\n",
              "      <td>0.139216</td>\n",
              "      <td>-0.012660</td>\n",
              "    </tr>\n",
              "  </tbody>\n",
              "</table>\n",
              "</div>"
            ],
            "text/plain": [
              "               Variables  ...  Regresión Ridge 1\n",
              "0          fixed acidity  ...           0.000186\n",
              "1       volatile acidity  ...          -0.568052\n",
              "2            citric acid  ...           0.168619\n",
              "3         residual sugar  ...           0.005735\n",
              "4              chlorides  ...          -1.333056\n",
              "5    free sulfur dioxide  ...           0.001612\n",
              "6   total sulfur dioxide  ...          -0.000582\n",
              "7                density  ...         -23.047566\n",
              "8                     pH  ...           0.076543\n",
              "9              sulphates  ...           0.291695\n",
              "10               alcohol  ...           0.140695\n",
              "11                 type2  ...          -0.012660\n",
              "\n",
              "[12 rows x 4 columns]"
            ]
          },
          "metadata": {},
          "execution_count": 41
        }
      ]
    },
    {
      "cell_type": "markdown",
      "metadata": {
        "id": "X-iWB0_xOBF1"
      },
      "source": [
        "### Análisis de coeficientes ridge comparados con la regresión lineal:\n",
        "\n",
        "*   Se observa que los coeficientes con ridge 0.1 ó 1 siempre siguen un patron en los signos de los coeficientes, por el contrario, al ser comparados con la regresión lineal, los signos de los coeficientes de citric acid, y type2 varían, también se nota que generalmente los coeficientes de la regresion lineal son mucho más grandes, ya sean positivos o negativos.\n"
      ]
    },
    {
      "cell_type": "code",
      "metadata": {
        "colab": {
          "base_uri": "https://localhost:8080/"
        },
        "id": "oJT_ZutxRBur",
        "outputId": "2932e68e-2baa-4ed8-c89d-f41ada792afc"
      },
      "source": [
        "print(\"RMSE de la regresión lineal: \",np.sqrt(metrics.mean_squared_error(y_test, y_pred)))\n",
        "print(\"RMSE ridge con alfa 0.1: \", np.sqrt(metrics.mean_squared_error(y_test, y1_pred)))\n",
        "print(\"RMSE ridge con alfa 1: \", np.sqrt(metrics.mean_squared_error(y_test, y2_pred)))\n"
      ],
      "execution_count": 45,
      "outputs": [
        {
          "output_type": "stream",
          "name": "stdout",
          "text": [
            "RMSE de la regresión lineal:  0.7412790604053446\n",
            "RMSE ridge con alfa 0.1:  0.7419468070835197\n",
            "RMSE ridge con alfa 1:  0.77294081168326\n"
          ]
        }
      ]
    },
    {
      "cell_type": "markdown",
      "metadata": {
        "id": "lH8tHz38QwIE"
      },
      "source": [
        "# Ejercicio 4\n",
        "\n",
        "* Estimar una regresión lasso con alfa igual a 0,01, 0,1 y 1.\n",
        "* Comparar los coeficientes con la regresión lineal\n",
        "* Evaluar el RMSE"
      ]
    },
    {
      "cell_type": "code",
      "metadata": {
        "collapsed": true,
        "id": "0ssJaCEzQwIF"
      },
      "source": [
        "from sklearn.linear_model import Lasso"
      ],
      "execution_count": 47,
      "outputs": []
    },
    {
      "cell_type": "code",
      "metadata": {
        "colab": {
          "base_uri": "https://localhost:8080/"
        },
        "id": "RIw2AFhJTQzz",
        "outputId": "ea6e4ca6-c15c-443a-8366-c3f9d66538e3"
      },
      "source": [
        "#Lasso alfa 0.01\n",
        "lassoreg1 = Lasso(alpha=0.01, normalize=True)\n",
        "lassoreg1.fit(X_train, y_train)\n",
        "yl1_pred = lassoreg1.predict(X_test)\n",
        "print(\"Coeficientes de Lasso con alpha = 0.01: \", '\\n', '\\n', lassoreg1.coef_)"
      ],
      "execution_count": 51,
      "outputs": [
        {
          "output_type": "stream",
          "name": "stdout",
          "text": [
            "Coeficientes de Lasso con alpha = 0.01:  \n",
            " \n",
            " [-0. -0.  0. -0. -0.  0. -0. -0.  0.  0.  0. -0.]\n"
          ]
        }
      ]
    },
    {
      "cell_type": "code",
      "metadata": {
        "colab": {
          "base_uri": "https://localhost:8080/"
        },
        "id": "ObmlG1-yTTPJ",
        "outputId": "8522dfca-84af-4591-b712-a5485854753e"
      },
      "source": [
        "#Lasso alfa 0.1\n",
        "lassoreg2 = Lasso(alpha=0.1, normalize=True)\n",
        "lassoreg2.fit(X_train, y_train)\n",
        "yl2_pred = lassoreg2.predict(X_test)\n",
        "print(\"Coeficientes de Lasso con alpha = 0.1: \", '\\n', '\\n', lassoreg2.coef_)"
      ],
      "execution_count": 52,
      "outputs": [
        {
          "output_type": "stream",
          "name": "stdout",
          "text": [
            "Coeficientes de Lasso con alpha = 0.1:  \n",
            " \n",
            " [-0. -0.  0. -0. -0.  0. -0. -0.  0.  0.  0. -0.]\n"
          ]
        }
      ]
    },
    {
      "cell_type": "code",
      "metadata": {
        "colab": {
          "base_uri": "https://localhost:8080/"
        },
        "id": "PQu5RAPETWtI",
        "outputId": "7211fe4a-02f6-4655-df35-de2b5cd300f8"
      },
      "source": [
        "#Lasso alfa 1\n",
        "lassoreg3 = Lasso(alpha=1, normalize=True)\n",
        "lassoreg3.fit(X_train, y_train)\n",
        "yl3_pred = lassoreg3.predict(X_test)\n",
        "print(\"Coeficientes de Lasso con alpha = 1: \", '\\n', '\\n', lassoreg3.coef_)"
      ],
      "execution_count": 53,
      "outputs": [
        {
          "output_type": "stream",
          "name": "stdout",
          "text": [
            "Coeficientes de Lasso con alpha = 1:  \n",
            " \n",
            " [-0. -0.  0. -0. -0.  0. -0. -0.  0.  0.  0. -0.]\n"
          ]
        }
      ]
    },
    {
      "cell_type": "code",
      "metadata": {
        "colab": {
          "base_uri": "https://localhost:8080/",
          "height": 416
        },
        "id": "shwXalr8Tut5",
        "outputId": "9a74dc60-843c-49f6-bc89-f16b4ce90e33"
      },
      "source": [
        "compara2 = pd.DataFrame({'Variables': X.columns,'Regresión lineal':modeloreg.coef_,\n",
        "                   'Regresión Lasso 0.01':lassoreg1.coef_,'Regresión Lasso 0.1':lassoreg2.coef_, 'Regresión Lasso 1':lassoreg3.coef_ })\n",
        "compara2"
      ],
      "execution_count": 54,
      "outputs": [
        {
          "output_type": "execute_result",
          "data": {
            "text/html": [
              "<div>\n",
              "<style scoped>\n",
              "    .dataframe tbody tr th:only-of-type {\n",
              "        vertical-align: middle;\n",
              "    }\n",
              "\n",
              "    .dataframe tbody tr th {\n",
              "        vertical-align: top;\n",
              "    }\n",
              "\n",
              "    .dataframe thead th {\n",
              "        text-align: right;\n",
              "    }\n",
              "</style>\n",
              "<table border=\"1\" class=\"dataframe\">\n",
              "  <thead>\n",
              "    <tr style=\"text-align: right;\">\n",
              "      <th></th>\n",
              "      <th>Variables</th>\n",
              "      <th>Regresión lineal</th>\n",
              "      <th>Regresión Lasso 0.01</th>\n",
              "      <th>Regresión Lasso 0.1</th>\n",
              "      <th>Regresión Lasso 1</th>\n",
              "    </tr>\n",
              "  </thead>\n",
              "  <tbody>\n",
              "    <tr>\n",
              "      <th>0</th>\n",
              "      <td>fixed acidity</td>\n",
              "      <td>0.085494</td>\n",
              "      <td>-0.0</td>\n",
              "      <td>-0.0</td>\n",
              "      <td>-0.0</td>\n",
              "    </tr>\n",
              "    <tr>\n",
              "      <th>1</th>\n",
              "      <td>volatile acidity</td>\n",
              "      <td>-1.497588</td>\n",
              "      <td>-0.0</td>\n",
              "      <td>-0.0</td>\n",
              "      <td>-0.0</td>\n",
              "    </tr>\n",
              "    <tr>\n",
              "      <th>2</th>\n",
              "      <td>citric acid</td>\n",
              "      <td>-0.067894</td>\n",
              "      <td>0.0</td>\n",
              "      <td>0.0</td>\n",
              "      <td>0.0</td>\n",
              "    </tr>\n",
              "    <tr>\n",
              "      <th>3</th>\n",
              "      <td>residual sugar</td>\n",
              "      <td>0.064144</td>\n",
              "      <td>-0.0</td>\n",
              "      <td>-0.0</td>\n",
              "      <td>-0.0</td>\n",
              "    </tr>\n",
              "    <tr>\n",
              "      <th>4</th>\n",
              "      <td>chlorides</td>\n",
              "      <td>-0.778717</td>\n",
              "      <td>-0.0</td>\n",
              "      <td>-0.0</td>\n",
              "      <td>-0.0</td>\n",
              "    </tr>\n",
              "    <tr>\n",
              "      <th>5</th>\n",
              "      <td>free sulfur dioxide</td>\n",
              "      <td>0.004719</td>\n",
              "      <td>0.0</td>\n",
              "      <td>0.0</td>\n",
              "      <td>0.0</td>\n",
              "    </tr>\n",
              "    <tr>\n",
              "      <th>6</th>\n",
              "      <td>total sulfur dioxide</td>\n",
              "      <td>-0.001238</td>\n",
              "      <td>-0.0</td>\n",
              "      <td>-0.0</td>\n",
              "      <td>-0.0</td>\n",
              "    </tr>\n",
              "    <tr>\n",
              "      <th>7</th>\n",
              "      <td>density</td>\n",
              "      <td>-104.642791</td>\n",
              "      <td>-0.0</td>\n",
              "      <td>-0.0</td>\n",
              "      <td>-0.0</td>\n",
              "    </tr>\n",
              "    <tr>\n",
              "      <th>8</th>\n",
              "      <td>pH</td>\n",
              "      <td>0.507677</td>\n",
              "      <td>0.0</td>\n",
              "      <td>0.0</td>\n",
              "      <td>0.0</td>\n",
              "    </tr>\n",
              "    <tr>\n",
              "      <th>9</th>\n",
              "      <td>sulphates</td>\n",
              "      <td>0.692182</td>\n",
              "      <td>0.0</td>\n",
              "      <td>0.0</td>\n",
              "      <td>0.0</td>\n",
              "    </tr>\n",
              "    <tr>\n",
              "      <th>10</th>\n",
              "      <td>alcohol</td>\n",
              "      <td>0.232039</td>\n",
              "      <td>0.0</td>\n",
              "      <td>0.0</td>\n",
              "      <td>0.0</td>\n",
              "    </tr>\n",
              "    <tr>\n",
              "      <th>11</th>\n",
              "      <td>type2</td>\n",
              "      <td>0.384830</td>\n",
              "      <td>-0.0</td>\n",
              "      <td>-0.0</td>\n",
              "      <td>-0.0</td>\n",
              "    </tr>\n",
              "  </tbody>\n",
              "</table>\n",
              "</div>"
            ],
            "text/plain": [
              "               Variables  ...  Regresión Lasso 1\n",
              "0          fixed acidity  ...               -0.0\n",
              "1       volatile acidity  ...               -0.0\n",
              "2            citric acid  ...                0.0\n",
              "3         residual sugar  ...               -0.0\n",
              "4              chlorides  ...               -0.0\n",
              "5    free sulfur dioxide  ...                0.0\n",
              "6   total sulfur dioxide  ...               -0.0\n",
              "7                density  ...               -0.0\n",
              "8                     pH  ...                0.0\n",
              "9              sulphates  ...                0.0\n",
              "10               alcohol  ...                0.0\n",
              "11                 type2  ...               -0.0\n",
              "\n",
              "[12 rows x 5 columns]"
            ]
          },
          "metadata": {},
          "execution_count": 54
        }
      ]
    },
    {
      "cell_type": "markdown",
      "metadata": {
        "id": "lZ1fhSv3UDbW"
      },
      "source": [
        "### Analisis: \n",
        "Los coeficientes de Lasso dieron todos 0, por el contrario en la regresion lineal sí dieron valores interpretables."
      ]
    },
    {
      "cell_type": "code",
      "metadata": {
        "colab": {
          "base_uri": "https://localhost:8080/"
        },
        "id": "zg-eNxeAUNcH",
        "outputId": "a8d299b3-0f08-42cd-a96c-dea7c7b10db3"
      },
      "source": [
        "print(\"RMSE de la regresión lineal: \",np.sqrt(metrics.mean_squared_error(y_test, y_pred)))\n",
        "print(\"RMSE lasso con alfa 0.01: \", np.sqrt(metrics.mean_squared_error(y_test, yl1_pred)))\n",
        "print(\"RMSE lasso con alfa 0.1: \", np.sqrt(metrics.mean_squared_error(y_test, yl2_pred)))\n",
        "print(\"RMSE lasso con alfa 1: \", np.sqrt(metrics.mean_squared_error(y_test, yl3_pred)))"
      ],
      "execution_count": 55,
      "outputs": [
        {
          "output_type": "stream",
          "name": "stdout",
          "text": [
            "RMSE de la regresión lineal:  0.7412790604053446\n",
            "RMSE lasso con alfa 0.01:  0.8683174491433667\n",
            "RMSE lasso con alfa 0.1:  0.8683174491433667\n",
            "RMSE lasso con alfa 1:  0.8683174491433667\n"
          ]
        }
      ]
    },
    {
      "cell_type": "markdown",
      "metadata": {
        "id": "452STsNLUfG5"
      },
      "source": [
        "### El RMSE con lasso es mucho más alto que con la regresión lineal."
      ]
    },
    {
      "cell_type": "markdown",
      "metadata": {
        "id": "vyQOAeSaQwIG"
      },
      "source": [
        "# Ejercicio 5\n",
        "\n",
        "* Estandarizar las características (excepto la calidad del vino)\n",
        "\n",
        "* Crear una variable objetivo binaria para cada tipo de vino\n",
        "\n",
        "* Analizar los coeficientes\n",
        "\n",
        "* * Evalúe con F1, AUC-ROC y log-loss"
      ]
    },
    {
      "cell_type": "code",
      "metadata": {
        "collapsed": true,
        "id": "YkkWtGxqQwII",
        "colab": {
          "base_uri": "https://localhost:8080/"
        },
        "outputId": "8f7f340e-e213-4cf7-c6e0-96489befb6eb"
      },
      "source": [
        "feature_cols = ['fixed acidity', 'volatile acidity', 'citric acid', 'residual sugar', 'chlorides', 'free sulfur dioxide',\n",
        "                 'total sulfur dioxide', 'density', 'pH', 'sulphates', 'alcohol','type2']\n",
        "\n",
        "X = data[feature_cols]\n",
        "y = data.quality2\n",
        "\n",
        "X_train, X_test, y_train, y_test = train_test_split(X, y, test_size=0.2, random_state=123)\n",
        "print(X_train.shape, X_test.shape, y_train.shape, y_test.shape)"
      ],
      "execution_count": 82,
      "outputs": [
        {
          "output_type": "stream",
          "name": "stdout",
          "text": [
            "(5197, 12) (1300, 12) (5197,) (1300,)\n"
          ]
        }
      ]
    },
    {
      "cell_type": "code",
      "metadata": {
        "colab": {
          "base_uri": "https://localhost:8080/"
        },
        "id": "OMELylC9WP2v",
        "outputId": "9c1bda27-58e3-4e82-ffee-36f2e1887d56"
      },
      "source": [
        "#Estandarizar las variables\n",
        "sc = StandardScaler()\n",
        "X_train2 = sc.fit_transform(X_train)\n",
        "X_test2 = sc.transform(X_test)\n",
        "\n",
        "# Crear variables binarias\n",
        "data['type2'] = data['type'].map({'white':0, 'red':1})\n",
        "data.loc[data.quality <= 5, 'quality2'] = 0\n",
        "data.loc[data.quality > 5, 'quality2'] = 1\n",
        "\n",
        "#Regresion logistica:\n",
        "logreg = LogisticRegression(solver='liblinear',C=1e9)\n",
        "logreg.fit(X_train2, y_train)\n",
        "y_pred = logreg.predict(X_test2)\n",
        "\n",
        "print(logreg.coef_)"
      ],
      "execution_count": 64,
      "outputs": [
        {
          "output_type": "stream",
          "name": "stdout",
          "text": [
            "[[ 0.12271096 -0.81606621 -0.06079562  0.56870553 -0.04899546  0.29175436\n",
            "  -0.31925948 -0.38614463  0.1286662   0.30265429  1.02791489  0.31196008]]\n"
          ]
        }
      ]
    },
    {
      "cell_type": "markdown",
      "metadata": {
        "id": "ACokQOGfY9j4"
      },
      "source": [
        "### Análisis: \n",
        "Los coefiecientes de la regresión logistica son muy cercanos a 0, similar a lo que ocurria en las regresiones anteriores."
      ]
    },
    {
      "cell_type": "code",
      "metadata": {
        "colab": {
          "base_uri": "https://localhost:8080/"
        },
        "id": "5hyd2mE-YGwv",
        "outputId": "8a67bfec-be62-4d98-973b-008c9e8032e7"
      },
      "source": [
        "from sklearn.metrics import f1_score\n",
        "print('F1 score:', metrics.f1_score(y_test, y_pred))"
      ],
      "execution_count": 65,
      "outputs": [
        {
          "output_type": "stream",
          "name": "stdout",
          "text": [
            "F1 score: 0.7777777777777777\n"
          ]
        }
      ]
    },
    {
      "cell_type": "code",
      "metadata": {
        "colab": {
          "base_uri": "https://localhost:8080/"
        },
        "id": "SZMxe5LgYmEW",
        "outputId": "f3008d09-a2f6-4aa7-9489-77f318d972e4"
      },
      "source": [
        "from sklearn.metrics import roc_auc_score\n",
        "print('ROC AUC score:', metrics.roc_auc_score(y_test, y_pred, average=None))"
      ],
      "execution_count": 66,
      "outputs": [
        {
          "output_type": "stream",
          "name": "stdout",
          "text": [
            "ROC AUC score: 0.683875\n"
          ]
        }
      ]
    },
    {
      "cell_type": "code",
      "metadata": {
        "colab": {
          "base_uri": "https://localhost:8080/"
        },
        "id": "c9cQJjHrYpvK",
        "outputId": "ff951394-6eea-4caf-adb3-3489db644a09"
      },
      "source": [
        "print('Log Loss:', metrics.log_loss(y_test, y_pred))"
      ],
      "execution_count": 67,
      "outputs": [
        {
          "output_type": "stream",
          "name": "stdout",
          "text": [
            "Log Loss: 9.88354086856439\n"
          ]
        }
      ]
    },
    {
      "cell_type": "markdown",
      "metadata": {
        "id": "amSxrrDYQwIJ"
      },
      "source": [
        "# Ejercicio 6\n",
        "\n",
        "* Estimar una regresión logística regularizada usando:\n",
        "* C = 0.01, 0.1 & 1.0\n",
        "* penalización = ['l1, 'l2']\n",
        "* Compare los coeficientes y la puntuación f1.\n",
        "\n",
        "Nota: Para los valores de C y Penalización, deben realizar todas las posibles combinaciones entre estas dos variables."
      ]
    },
    {
      "cell_type": "code",
      "metadata": {
        "collapsed": true,
        "id": "AGnOJ3-vQwIK",
        "colab": {
          "base_uri": "https://localhost:8080/"
        },
        "outputId": "500cba1b-9a3c-4298-9697-1dca000523fc"
      },
      "source": [
        "#Regresión logistica regularizada con C = 0.01, penalización l1 y l2\n",
        "    \n",
        "logreg_001l1 = LogisticRegression(C=0.01, penalty='l1',solver='liblinear',multi_class='auto')\n",
        "logreg_001l1.fit(X_train2, y_train)\n",
        "y_pred_prob_001l1 = logreg_001l1.predict(X_test2)\n",
        "print('Coeficientes regresión logistica regularizada con C = 0.01, penalización l1: \\n', logreg_001l1.coef_)\n",
        "print(\"\\n\")\n",
        "print(\"f1 score c=0,01 penalización l1 :\"+\" \"+str(f1_score(y_test, y_pred_prob_001l1)))\n",
        "\n",
        "\n",
        "logreg_001l2 = LogisticRegression(C=0.01, penalty='l2',solver='liblinear',multi_class='auto')\n",
        "logreg_001l2.fit(X_train2, y_train)\n",
        "y_pred_prob_001l2 = logreg_001l2.predict(X_test2)\n",
        "print(\"\\n\")\n",
        "print('Coeficientes regresión logistica regularizada con C = 0.01, penalización l2: \\n', logreg_001l2.coef_)\n",
        "print(\"\\n\")\n",
        "print(\"f1 score c=0,01 penalización l2 :\"+\" \"+str(f1_score(y_test, y_pred_prob_001l2)))"
      ],
      "execution_count": 79,
      "outputs": [
        {
          "output_type": "stream",
          "name": "stdout",
          "text": [
            "Coeficientes regresión logistica regularizada con C = 0.01, penalización l1: \n",
            " [[ 0.00000000e+00 -5.13391474e-01  0.00000000e+00  7.39611477e-02\n",
            "   0.00000000e+00  6.05257786e-05  0.00000000e+00  0.00000000e+00\n",
            "   0.00000000e+00  1.33004969e-01  9.11138810e-01  0.00000000e+00]]\n",
            "\n",
            "\n",
            "f1 score c=0,01 penalización l1 : 0.76378896882494\n",
            "\n",
            "\n",
            "Coeficientes regresión logistica regularizada con C = 0.01, penalización l2: \n",
            " [[ 0.05370877 -0.61333693 -0.00984039  0.32820389 -0.08361312  0.22478727\n",
            "  -0.27459385 -0.20399633  0.0873781   0.25543402  0.85594632  0.11346822]]\n",
            "\n",
            "\n",
            "f1 score c=0,01 penalización l2 : 0.7755102040816327\n"
          ]
        }
      ]
    },
    {
      "cell_type": "code",
      "metadata": {
        "colab": {
          "base_uri": "https://localhost:8080/"
        },
        "id": "_EQXG6l9eu_E",
        "outputId": "3522ceda-0b75-4996-839f-731764afecf8"
      },
      "source": [
        "#Regresión logistica regularizada con C = 0.1, penalización l1 y l2\n",
        "    \n",
        "logreg_01l1 = LogisticRegression(C=0.1, penalty='l1',solver='liblinear',multi_class='auto')\n",
        "logreg_01l1.fit(X_train2, y_train)\n",
        "y_pred_prob_01l1 = logreg_01l1.predict(X_test2)\n",
        "print('Coeficientes regresión logistica regularizada con C = 0.1, penalización l1: \\n', logreg_01l1.coef_)\n",
        "print(\"\\n\")\n",
        "print(\"f1 score c=0,1 penalización l1 :\"+\" \"+str(f1_score(y_test, y_pred_prob_01l1)))\n",
        "\n",
        "\n",
        "logreg_01l2 = LogisticRegression(C=0.1, penalty='l2',solver='liblinear',multi_class='auto')\n",
        "logreg_01l2.fit(X_train2, y_train)\n",
        "y_pred_prob_01l2 = logreg_01l2.predict(X_test2)\n",
        "print(\"\\n\")\n",
        "print('Coeficientes regresión logistica regularizada con C = 0.1, penalización l2: \\n', logreg_01l2.coef_)\n",
        "print(\"\\n\")\n",
        "print(\"f1 score c=0,1 penalización l2 :\"+\" \"+str(f1_score(y_test, y_pred_prob_01l2)))\n"
      ],
      "execution_count": 77,
      "outputs": [
        {
          "output_type": "stream",
          "name": "stdout",
          "text": [
            "Coeficientes regresión logistica regularizada con C = 0.1, penalización l1: \n",
            " [[ 0.         -0.78252414 -0.04909664  0.32117028 -0.04399304  0.27059608\n",
            "  -0.31002914 -0.02955279  0.05158063  0.26344787  1.13979337  0.1610919 ]]\n",
            "\n",
            "\n",
            "f1 score c=0,1 penalización l1 : 0.7767106842737094\n",
            "\n",
            "\n",
            "Coeficientes regresión logistica regularizada con C = 0.1, penalización l2: \n",
            " [[ 0.09917984 -0.78618167 -0.0539936   0.5079031  -0.05516917  0.28591875\n",
            "  -0.31992243 -0.31846313  0.11479992  0.29530076  1.01984053  0.2636805 ]]\n",
            "\n",
            "\n",
            "f1 score c=0,1 penalización l2 : 0.7763157894736842\n"
          ]
        }
      ]
    },
    {
      "cell_type": "code",
      "metadata": {
        "colab": {
          "base_uri": "https://localhost:8080/"
        },
        "id": "41AP-j3WewEy",
        "outputId": "0b9e1774-8eec-4946-f8ea-98b84b0978ce"
      },
      "source": [
        "#Regresión logistica regularizada con C = 1, penalización l1 y l2\n",
        "    \n",
        "logreg_1l1 = LogisticRegression(C=1, penalty='l1',solver='liblinear',multi_class='auto')\n",
        "logreg_1l1.fit(X_train2, y_train)\n",
        "y_pred_prob_1l1 = logreg_1l1.predict(X_test2)\n",
        "print('Coeficientes regresión logistica regularizada con C = 1, penalización l1: \\n', logreg_1l1.coef_)\n",
        "print(\"\\n\")\n",
        "print(\"f1 score c=1 penalización l1 :\"+\" \"+str(f1_score(y_test, y_pred_prob_1l1)))\n",
        "\n",
        "\n",
        "logreg_1l2 = LogisticRegression(C=1, penalty='l2',solver='liblinear',multi_class='auto')\n",
        "logreg_1l2.fit(X_train2, y_train)\n",
        "y_pred_prob_1l2 = logreg_1l2.predict(X_test2)\n",
        "print(\"\\n\")\n",
        "print('Coeficientes regresión logistica regularizada con C = 1, penalización l2: \\n', logreg_1l2.coef_)\n",
        "print(\"\\n\")\n",
        "print(\"f1 score c=1 penalización l2 :\"+\" \"+str(f1_score(y_test, y_pred_prob_1l2)))"
      ],
      "execution_count": 78,
      "outputs": [
        {
          "output_type": "stream",
          "name": "stdout",
          "text": [
            "Coeficientes regresión logistica regularizada con C = 1, penalización l1: \n",
            " [[ 0.10401822 -0.8131942  -0.05890789  0.53722077 -0.0490095   0.28977916\n",
            "  -0.31866429 -0.34025154  0.11770325  0.29818317  1.04295584  0.29572162]]\n",
            "\n",
            "\n",
            "f1 score c=1 penalización l1 : 0.7751196172248804\n",
            "\n",
            "\n",
            "Coeficientes regresión logistica regularizada con C = 1, penalización l2: \n",
            " [[ 0.11947067 -0.81295874 -0.06011489  0.56094334 -0.04969763  0.29128744\n",
            "  -0.31956177 -0.3768716   0.12674639  0.3017911   1.02794819  0.30608384]]\n",
            "\n",
            "\n",
            "f1 score c=1 penalización l2 : 0.777313432835821\n"
          ]
        }
      ]
    },
    {
      "cell_type": "markdown",
      "metadata": {
        "id": "4DbuHBn7QwHu"
      },
      "source": [
        "# SVM"
      ]
    },
    {
      "cell_type": "markdown",
      "metadata": {
        "id": "0kggmI76QwHv"
      },
      "source": [
        "# Ejercicio 7\n",
        "\n",
        "Teniendo en cuenta las mismas variables de la regresión logística:\n",
        "\n",
        "* Crear un objetivo binario para cada tipo de vino\n",
        "* Crear dos SVM lineales para los vinos blancos y tintos, respectivamente.\n"
      ]
    },
    {
      "cell_type": "code",
      "metadata": {
        "collapsed": true,
        "id": "lsL5zSQmQwHz"
      },
      "source": [
        ""
      ],
      "execution_count": null,
      "outputs": []
    },
    {
      "cell_type": "markdown",
      "metadata": {
        "id": "auNsSHtsQwH1"
      },
      "source": [
        "# Ejercicio 8\n",
        "\n",
        "* Probar las dos SVM utilizando los diferentes kernels ('poly', 'rbf', 'sigmoid')\n",
        "* Evalúe con F1, AUC-ROC y log-loss\n"
      ]
    },
    {
      "cell_type": "code",
      "metadata": {
        "collapsed": true,
        "id": "f6adIqmAQwH4"
      },
      "source": [
        ""
      ],
      "execution_count": null,
      "outputs": []
    },
    {
      "cell_type": "markdown",
      "metadata": {
        "id": "DHBmMhtYQwH6"
      },
      "source": [
        "# Ejercicio 9\n",
        "* Utilizando el mejor SVM encontrar los parámetros que da el mejor rendimiento teniendo en cuenta los siguientes hiperparámetros\n",
        "'C': [0.1, 1, 10, 100, 1000], 'gamma': [0.01, 0.001, 0.0001]\n",
        "* Evalúe cada modelo con F1, AUC-ROC y log-loss\n",
        "\n",
        "Nota: Para los valores de C y gamma, deben realizar todas las posibles combinaciones entre estas dos variables."
      ]
    },
    {
      "cell_type": "code",
      "metadata": {
        "collapsed": true,
        "id": "3d6wqybPQwH8"
      },
      "source": [
        ""
      ],
      "execution_count": null,
      "outputs": []
    },
    {
      "cell_type": "markdown",
      "metadata": {
        "id": "XjgVQ_WTQwH9"
      },
      "source": [
        "# Ejercicio 10\n",
        "\n",
        "Compare los resultados con todos los anteriores modelos y eliga ¿Cuál algoritmo con cuáles hiperparámetros es el que tiene mejor rendimiento según la puntuación F1, AUC-ROC y log-loss?"
      ]
    },
    {
      "cell_type": "markdown",
      "metadata": {
        "id": "mtQYF30fVPnF"
      },
      "source": [
        ""
      ]
    }
  ]
}